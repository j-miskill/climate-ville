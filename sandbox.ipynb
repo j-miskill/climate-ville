{
 "cells": [
  {
   "cell_type": "code",
   "execution_count": 1,
   "metadata": {},
   "outputs": [],
   "source": [
    "import requests\n",
    "import json\n",
    "import os\n",
    "import climate\n",
    "from pprint import pprint\n",
    "import pandas as pd\n",
    "import numpy as np\n",
    "import io\n",
    "import census\n",
    "from pprint import pprint"
   ]
  },
  {
   "cell_type": "code",
   "execution_count": 2,
   "metadata": {},
   "outputs": [
    {
     "name": "stdout",
     "output_type": "stream",
     "text": [
      "DP03_0093E\n"
     ]
    },
    {
     "data": {
      "text/html": [
       "<div>\n",
       "<style scoped>\n",
       "    .dataframe tbody tr th:only-of-type {\n",
       "        vertical-align: middle;\n",
       "    }\n",
       "\n",
       "    .dataframe tbody tr th {\n",
       "        vertical-align: top;\n",
       "    }\n",
       "\n",
       "    .dataframe thead th {\n",
       "        text-align: right;\n",
       "    }\n",
       "</style>\n",
       "<table border=\"1\" class=\"dataframe\">\n",
       "  <thead>\n",
       "    <tr style=\"text-align: right;\">\n",
       "      <th></th>\n",
       "      <th>DP03_0119PE</th>\n",
       "      <th>DP03_0093E</th>\n",
       "      <th>NAME</th>\n",
       "      <th>state</th>\n",
       "      <th>county</th>\n",
       "    </tr>\n",
       "  </thead>\n",
       "  <tbody>\n",
       "    <tr>\n",
       "      <th>0</th>\n",
       "      <td>13.5</td>\n",
       "      <td>50111</td>\n",
       "      <td>Norfolk city, Virginia</td>\n",
       "      <td>51</td>\n",
       "      <td>710</td>\n",
       "    </tr>\n",
       "  </tbody>\n",
       "</table>\n",
       "</div>"
      ],
      "text/plain": [
       "  DP03_0119PE DP03_0093E                    NAME state county\n",
       "0        13.5      50111  Norfolk city, Virginia    51    710"
      ]
     },
     "execution_count": 2,
     "metadata": {},
     "output_type": "execute_result"
    }
   ],
   "source": [
    "ca = census.CensusData()\n",
    "ca.get_data_for_city(\"norfolk\", data_selections=\"poverty,male_income\")"
   ]
  },
  {
   "cell_type": "code",
   "execution_count": null,
   "metadata": {},
   "outputs": [],
   "source": []
  },
  {
   "cell_type": "code",
   "execution_count": null,
   "metadata": {},
   "outputs": [],
   "source": [
    "co = climate.ClimateAgent()\n",
    "station_id = co.get_station_id(\"Norfolk, Virginia\")\n",
    "climate_df = co.get_data_for_station_id(station_id=station_id, start_date=\"2022-01-01\", end_date=\"2022-12-31\")"
   ]
  },
  {
   "cell_type": "code",
   "execution_count": null,
   "metadata": {},
   "outputs": [],
   "source": [
    "# ca = census.CensusData()\n",
    "\n",
    "# pprint(ca.access_economic_data(\"Norfolk\", [2022]))"
   ]
  },
  {
   "cell_type": "code",
   "execution_count": null,
   "metadata": {},
   "outputs": [],
   "source": [
    "from html.parser import HTMLParser\n",
    "#census_url = \"https://api.census.gov/data\"\n",
    "year = \"2023\"\n",
    "dataset = \"acs\"\n",
    "url = f\"https://api.census.gov/data/{year}/acs/acs1/profile\"\n",
    "variables = \"NAME,DP03_0119PE\"\n",
    "\n",
    "\"\"\"\n",
    "    # https://api.census.gov/data/2022/acs/acs1/profile/variables.html \n",
    "\n",
    "    # test variables:\n",
    "    DP03_0001E = Employment Status, aged 16 and older\n",
    "    DP03_0051E = Income and benefits, inflation adjusted (add a P before the E for percent)\n",
    "    DP03_0086E = Mean family income (dollars)\n",
    "\n",
    "\n",
    "    DP03_0093E = estimate for earnings for first year male workers \n",
    "    DP03_0094E = estimate for earnings for first year female workers\n",
    "\n",
    "    DP03_0119PE = estimated percentage of people below the poverty line\n",
    "\n",
    "\n",
    "\n",
    "\n",
    "\"\"\"\n",
    "\n",
    "print(url)\n",
    "params = {\"key\": os.getenv(\"CENSUS_KEY\"),\n",
    "           \"for\": \"county:*\", \n",
    "           \"get\": variables,\n",
    "           \"in\": \"state:51\"\n",
    "          }\n",
    "r = requests.get(url, params=params)\n",
    "values = list(json.loads(r.text))\n",
    "\n",
    "df = pd.DataFrame(values[1:], columns=values[0])\n",
    "df"
   ]
  },
  {
   "cell_type": "code",
   "execution_count": null,
   "metadata": {},
   "outputs": [],
   "source": [
    "df['NAME'] = df['NAME'].str.lower()\n",
    "df['NAME'] = df['NAME'].str.replace(\" \", \"\")"
   ]
  },
  {
   "cell_type": "code",
   "execution_count": null,
   "metadata": {},
   "outputs": [],
   "source": [
    "df[df['NAME'].str.contains(\"norfolk\")]"
   ]
  },
  {
   "cell_type": "code",
   "execution_count": null,
   "metadata": {},
   "outputs": [],
   "source": []
  }
 ],
 "metadata": {
  "kernelspec": {
   "display_name": ".venv",
   "language": "python",
   "name": "python3"
  },
  "language_info": {
   "codemirror_mode": {
    "name": "ipython",
    "version": 3
   },
   "file_extension": ".py",
   "mimetype": "text/x-python",
   "name": "python",
   "nbconvert_exporter": "python",
   "pygments_lexer": "ipython3",
   "version": "3.12.5"
  }
 },
 "nbformat": 4,
 "nbformat_minor": 2
}
