{
 "cells": [
  {
   "cell_type": "code",
   "execution_count": 1,
   "metadata": {},
   "outputs": [],
   "source": [
    "import requests\n",
    "import json\n",
    "import os\n",
    "import climate\n",
    "from pprint import pprint\n",
    "import pandas as pd\n",
    "import numpy as np\n",
    "import io\n",
    "import census\n",
    "from pprint import pprint"
   ]
  },
  {
   "cell_type": "code",
   "execution_count": 3,
   "metadata": {},
   "outputs": [],
   "source": [
    "ca = census.CensusData()\n",
    "co = climate.ClimateAgent()\n",
    "pgpw = os.getenv(\"POSTGRES_PASSWORD\") \n",
    "server, engine = ca.connect_to_postgres(password=pgpw) #need to add create=True if\n"
   ]
  },
  {
   "cell_type": "code",
   "execution_count": null,
   "metadata": {},
   "outputs": [],
   "source": [
    "# ca.upload_city_data_to_postgres(tmp_df, engine=engine)\n",
    "# # CITY YEAR will be the primary key(s)\n",
    "# # all other data will follow after that"
   ]
  },
  {
   "cell_type": "code",
   "execution_count": null,
   "metadata": {},
   "outputs": [],
   "source": [
    "# # to delete a table,,, weird syntax\n",
    "# from sqlalchemy import MetaData, Table\n",
    "# metadata = MetaData()\n",
    "\n",
    "# # Reflect the existing table\n",
    "# table_name = 'city_data'\n",
    "# table = Table(table_name, metadata, autoload_with=engine)\n",
    "\n",
    "# # Drop the table\n",
    "# table.drop(engine)"
   ]
  },
  {
   "cell_type": "code",
   "execution_count": null,
   "metadata": {},
   "outputs": [],
   "source": [
    "# query = \"\"\"\n",
    "# SELECT * \n",
    "# FROM cities\n",
    "# \"\"\"\n",
    "\n",
    "# counties = list(pd.read_sql_query(query, con=engine)['county'])\n",
    "\n",
    "# final_df = pd.DataFrame()\n",
    "# for county in counties:\n",
    "#     print(\"Working on: \", county)\n",
    "#     city_data_df = ca.get_data_for_city(city=None, years=(2009,2024), county=county)\n",
    "#     final_df = pd.concat([final_df, city_data_df], ignore_index=True)\n"
   ]
  },
  {
   "cell_type": "code",
   "execution_count": null,
   "metadata": {},
   "outputs": [],
   "source": [
    "# ca.upload_city_data_to_postgres(final_df, engine=engine)"
   ]
  },
  {
   "cell_type": "code",
   "execution_count": null,
   "metadata": {},
   "outputs": [],
   "source": [
    "# # existing_data = pd.read_sql('SELECT city, year FROM city_data', engine)\n",
    "# # new_rows = final_df[~final_df[['city', 'year']].isin(existing_data[['city', 'year']])]\n",
    "# # final_df[['city', 'year']].isin(existing_data[['city', 'year']])\n",
    "# query = \"\"\"\n",
    "# SELECT * FROM city_data\n",
    "# \"\"\"\n",
    "\n",
    "# check_df = pd.read_sql_query(query, con=engine)\n",
    "# check_df\n",
    "# #rows_to_upload = final_df[]\n",
    "# # final_df.to_sql(\"city_data\", con=engine, index=False, chunksize=1000, if_exists=\"replace\")"
   ]
  },
  {
   "cell_type": "code",
   "execution_count": null,
   "metadata": {},
   "outputs": [],
   "source": [
    "\n",
    "# query = \"\"\"\n",
    "# SELECT * FROM city_data\n",
    "# \"\"\"\n",
    "\n",
    "# df = pd.read_sql_query(query, con=engine)\n",
    "# df"
   ]
  },
  {
   "cell_type": "code",
   "execution_count": null,
   "metadata": {},
   "outputs": [],
   "source": [
    "# y = \"2009\"\n",
    "# url = \"https://api.census.gov/data/\" + f\"{y}/acs/acs1/profile\"\n",
    "\n",
    "# get_metrics = \"\".join(x + \",\" for x in ca.list_of_metrics.keys())\n",
    "# get_metrics = get_metrics[:len(get_metrics)-1] # get rid of the last comma that I appended\n",
    "\n",
    "# params = {\"key\": os.getenv(\"CENSUS_KEY\"),\n",
    "#                     \"get\": get_metrics,\n",
    "#                     \"for\": f\"county:810\",\n",
    "#                     \"in\": \"state:51\"}\n",
    "\n",
    "# r = requests.get(url=url, params=params)\n",
    "# values = list(json.loads(r.text))\n",
    "# pd.DataFrame(values[1:], columns=values[0])"
   ]
  },
  {
   "cell_type": "code",
   "execution_count": null,
   "metadata": {},
   "outputs": [],
   "source": [
    "# ca.get_all_cities()"
   ]
  },
  {
   "cell_type": "code",
   "execution_count": null,
   "metadata": {},
   "outputs": [],
   "source": [
    "# from html.parser import HTMLParser\n",
    "# #census_url = \"https://api.census.gov/data\"\n",
    "# year = \"2023\"\n",
    "# dataset = \"acs\"\n",
    "# url = f\"https://api.census.gov/data/{year}/acs/acs1/profile\"\n",
    "\n",
    "\n",
    "# \"\"\"\n",
    "#     # https://api.census.gov/data/2022/acs/acs1/profile/variables.html \n",
    "\n",
    "#     # ones worth using:\n",
    "\n",
    "#     # economic\n",
    "#     DP03_0093E = estimate for earnings for first year male workers \n",
    "#     DP03_0094E = estimate for earnings for first year female workers\n",
    "#     DP03_0119PE = estimated percentage of people below the poverty line\n",
    "#     DP04_0001E = estimated housing units\n",
    "#     DP02_0002E = estimated number of married housing units\n",
    "#     DP02_0016E = estimated average household size\n",
    "\n",
    "#     DP03_0052E: estimated total households less than $10,000 income\n",
    "#     DP03_0053E: estimated total households between $10-15k\n",
    "#     DP03_0054E: estimated total households between $15-25k\n",
    "#     DP03_0055E: 25-35k\n",
    "#     DP03_0056E: 35-45k\n",
    "#     DP03_0057E: 50-75k\n",
    "#     DP03_0058E: 75-100k\n",
    "#     DP03_0059E: 100-150k\n",
    "#     DP03_0060E: 150-200k\n",
    "#     DP03_0061E: > 200k\n",
    "\n",
    "#     # relationships\n",
    "#     DP02_0026E = men over 15 y/o who have not married\n",
    "#     DP02_0028E = men over 15 y/o who married, but separated\n",
    "#     DP02_0030E = men over 15 y/o who are divorced\n",
    "    \n",
    "#     # education (currently)\n",
    "#     DP02_0054E = estimated population of kids in nursery school/preschool\n",
    "#     DP02_0055E = estimated population of kids in kindergarten\n",
    "#     DP02_0056E = estimated population of kids in grades 1-8\n",
    "#     DP02_0057E = estimated population of kids in grades 9-12\n",
    "#     DP02_0058E = estimated population of kids in college/grad school\n",
    "\n",
    "#     # education attainment\n",
    "#     DP02_0060PE = estimated population of 25 years and older who have less than 9th grade education\n",
    "#     DP02_0061PE = estimated population with some high school education\n",
    "#     DP02_0062PE = estimated population with high school diploma\n",
    "#     DP02_0063PE = estimated population with some college, no diploma\n",
    "#     DP02_0064PE = estimated population with associates degrees\n",
    "#     DP02_0065PE  = estimated population with bachelor's degree\n",
    "#     DP02_0066PE = estimated population with graduate degrees\n",
    "\n",
    "#     # unemployement rate\n",
    "#     DP03_0009PE\n",
    "\n",
    "#     # industry\n",
    "#     DP03_0033PE: agriculture, forestry, fishing, hunting, mining\n",
    "#     DP03_0034PE: construction\n",
    "#     DP03_0035PE: manufacturing\n",
    "#     DP03_0036PE: wholesale trade\n",
    "#     DP03_0037PE: retail trade\n",
    "#     DP03_0038PE: transportation, warehousing, utilities\n",
    "#     DP03_0039PE: information\n",
    "#     DP03_0040PE: finance, insurance, real estate, rental, leasing\n",
    "#     DP03_0041PE: professional, scientific, administrative, waste management\n",
    "#     DP03_0042PE: educational services/health care/ social assistance\n",
    "#     DP03_0043PE: arts, entertainment, recreation, accommodation, food services\n",
    "#     DP03_0045PE: public administration\n",
    "\n",
    "# \"\"\"\n",
    "# variables = \"NAME,DP02_0060PE,DP02_0061PE,DP02_0062PE,DP02_0063PE,DP02_0064PE,DP02_0065PE,DP02_0066PE\"\n",
    "# print(url)\n",
    "# params = {\"key\": os.getenv(\"CENSUS_KEY\"),\n",
    "#            \"for\": \"county:*\", \n",
    "#            \"get\": variables,\n",
    "#            \"in\": \"state:51\"\n",
    "#           }\n",
    "# r = requests.get(url, params=params)\n",
    "# values = list(json.loads(r.text))\n",
    "\n",
    "# df = pd.DataFrame(values[1:], columns=values[0])\n",
    "# # df = df.rename(columns={\n",
    "# #     \"DP02_0060PE\":\"<9th\",\n",
    "# #     \"DP02_0061PE\": \"some high school\",\n",
    "# #     \"DP02_0062PE\": \"high school\",\n",
    "# #     \"DP02_0063PE\": \"some college\",\n",
    "# #     \"DP02_0064PE\": \"associates\",\n",
    "# #     \"DP02_0065PE\": \"bachelors\",\n",
    "# #     \"DP02_0066PE\": \"graduate\"\n",
    "# # })\n",
    "# df"
   ]
  },
  {
   "cell_type": "code",
   "execution_count": null,
   "metadata": {},
   "outputs": [],
   "source": [
    "co = climate.ClimateAgent()\n",
    "# let's test for all of the cities that we have data on for the Census\n",
    "# so there will be around 30 \"cities\" (counties, really) for Virginia that we will have data on\n",
    "cities = ca.get_all_cities()\n",
    "cities = list(cities['city'])\n",
    "for c in cities:\n",
    "    print(\"Working on:\" c)\n",
    "    station_id = co.get_station_id(c)\n",
    "    climate_df = co.get_data_for_station_id(station_id=station_id, start_date=\"2022-01-01\", end_date=\"2022-12-31\")"
   ]
  },
  {
   "cell_type": "code",
   "execution_count": null,
   "metadata": {},
   "outputs": [],
   "source": [
    "station_id = co.get_station_id(\"Norfolk, Virginia\")\n",
    "climate_df = co.get_data_for_station_id(station_id=station_id, start_date=\"1930-01-01\", end_date=\"2022-12-31\")"
   ]
  },
  {
   "cell_type": "code",
   "execution_count": null,
   "metadata": {},
   "outputs": [],
   "source": [
    "co.upload_data_to_postgres(climate_data=climate_df, engine=engine)"
   ]
  },
  {
   "cell_type": "code",
   "execution_count": null,
   "metadata": {},
   "outputs": [],
   "source": [
    "query = \"\"\"\n",
    "SELECT *\n",
    "FROM climate_data\n",
    "\"\"\"\n",
    "\n",
    "pd.read_sql_query(query, con=engine)"
   ]
  },
  {
   "cell_type": "code",
   "execution_count": 23,
   "metadata": {},
   "outputs": [
    {
     "name": "stdout",
     "output_type": "stream",
     "text": [
      "Working on: albemarle, virginia\n",
      "Working on: arlington, virginia\n",
      "Working on: augusta, virginia\n",
      "Working on: bedford, virginia\n",
      "Working on: chesterfield, virginia\n",
      "Working on: fairfax, virginia\n",
      "Working on: front royal, virginia\n",
      "Working on: frederick, virginia\n",
      "Working on: hanover, virginia\n",
      "Working on: henrico, virginia\n",
      "Working on: williamsburg, virginia\n",
      "Working on: loudoun, virginia\n",
      "Working on: montgomery, virginia\n",
      "Working on: manassas, virginia\n",
      "Working on: roanoke, virginia\n",
      "Working on: rockingham, virginia\n",
      "Working on: spotsylvania, virginia\n",
      "Station id look up failed for: spotsylvania, virginia\n",
      "{\"dataTypes\":{\"docCountError\":0,\"buckets\":[],\"sumOfOtherDocCounts\":0},\"count\":0,\"bounds\":{\"bottomRight\":null,\"topLeft\":null},\"totalFileSize\":0.0,\"stations\":{\"docCountError\":0,\"buckets\":[],\"sumOfOtherDocCounts\":0},\"totalCount\":123848,\"results\":[]}\n"
     ]
    },
    {
     "ename": "UnboundLocalError",
     "evalue": "cannot access local variable 'station_id' where it is not associated with a value",
     "output_type": "error",
     "traceback": [
      "\u001b[0;31m---------------------------------------------------------------------------\u001b[0m",
      "\u001b[0;31mUnboundLocalError\u001b[0m                         Traceback (most recent call last)",
      "Cell \u001b[0;32mIn[23], line 15\u001b[0m\n\u001b[1;32m     13\u001b[0m     c \u001b[38;5;241m=\u001b[39m c \u001b[38;5;241m+\u001b[39m \u001b[38;5;124m\"\u001b[39m\u001b[38;5;124m, virginia\u001b[39m\u001b[38;5;124m\"\u001b[39m\n\u001b[1;32m     14\u001b[0m     \u001b[38;5;28mprint\u001b[39m(\u001b[38;5;124m\"\u001b[39m\u001b[38;5;124mWorking on:\u001b[39m\u001b[38;5;124m\"\u001b[39m, c)\n\u001b[0;32m---> 15\u001b[0m     city_id \u001b[38;5;241m=\u001b[39m \u001b[43mco\u001b[49m\u001b[38;5;241;43m.\u001b[39;49m\u001b[43mget_station_id\u001b[49m\u001b[43m(\u001b[49m\u001b[43mcity\u001b[49m\u001b[38;5;241;43m=\u001b[39;49m\u001b[43mc\u001b[49m\u001b[43m)\u001b[49m\n\u001b[1;32m     16\u001b[0m     city_to_station[c] \u001b[38;5;241m=\u001b[39m city_id\n\u001b[1;32m     17\u001b[0m pprint(city_to_station)\n",
      "File \u001b[0;32m~/class/f24/ds6600/project/climate-ville/climate.py:95\u001b[0m, in \u001b[0;36mClimateAgent.get_station_id\u001b[0;34m(self, city)\u001b[0m\n\u001b[1;32m     93\u001b[0m     \u001b[38;5;28mprint\u001b[39m(\u001b[38;5;124m\"\u001b[39m\u001b[38;5;124mStation id look up failed for:\u001b[39m\u001b[38;5;124m\"\u001b[39m, city)\n\u001b[1;32m     94\u001b[0m     \u001b[38;5;28mprint\u001b[39m(r\u001b[38;5;241m.\u001b[39mtext)\n\u001b[0;32m---> 95\u001b[0m \u001b[38;5;28;01mreturn\u001b[39;00m \u001b[43mstation_id\u001b[49m\n",
      "\u001b[0;31mUnboundLocalError\u001b[0m: cannot access local variable 'station_id' where it is not associated with a value"
     ]
    }
   ],
   "source": [
    "cities = ca.get_all_cities()\n",
    "cities = list(cities['city'])\n",
    "\n",
    "city_to_station = {}\n",
    "\n",
    "for c in cities:\n",
    "    if c == \"fauquier\":\n",
    "        c = \"front royal\"\n",
    "    if c == \"jamescity\":\n",
    "        c = \"williamsburg\"\n",
    "    if c == \"princewilliam\":\n",
    "        c = \"manassas\"\n",
    "    c = c + \", virginia\"\n",
    "    print(\"Working on:\", c)\n",
    "    city_id = co.get_station_id(city=c)\n",
    "    city_to_station[c] = city_id\n",
    "pprint(city_to_station)"
   ]
  },
  {
   "cell_type": "code",
   "execution_count": 14,
   "metadata": {},
   "outputs": [
    {
     "name": "stdout",
     "output_type": "stream",
     "text": [
      "['albemarle', 'arlington', 'augusta', 'bedford', 'chesterfield', 'fairfax', 'fauquier', 'frederick', 'hanover', 'henrico', 'jamescity', 'loudoun', 'montgomery', 'princewilliam', 'roanoke', 'rockingham', 'spotsylvania', 'stafford', 'york', 'lynchburg', 'alexandria', 'chesapeake', 'hampton', 'newportnews', 'norfolk', 'portsmouth', 'richmond', 'roanoke', 'suffolk', 'beach']\n"
     ]
    }
   ],
   "source": [
    "print(cities)"
   ]
  },
  {
   "cell_type": "code",
   "execution_count": 19,
   "metadata": {},
   "outputs": [
    {
     "data": {
      "text/plain": [
       "(38.896, -77.661, 38.606, -77.289)"
      ]
     },
     "execution_count": 19,
     "metadata": {},
     "output_type": "execute_result"
    }
   ],
   "source": [
    "lat, long = co.get_lat_long(location=\"manassas VA\")\n",
    "bb = co.get_bounding_box(latitude=lat, longitude=long, buffer = 10)\n",
    "bb"
   ]
  },
  {
   "cell_type": "code",
   "execution_count": 20,
   "metadata": {},
   "outputs": [
    {
     "name": "stdout",
     "output_type": "stream",
     "text": [
      "38.896,-77.661,38.606,-77.289\n"
     ]
    },
    {
     "data": {
      "text/plain": [
       "'{\"dataTypes\":{\"docCountError\":0,\"buckets\":[{\"docCount\":2,\"key\":\"CDSD\"},{\"docCount\":2,\"key\":\"CLDD\"},{\"docCount\":2,\"key\":\"DP01\"},{\"docCount\":2,\"key\":\"DP10\"},{\"docCount\":2,\"key\":\"DP1X\"},{\"docCount\":2,\"key\":\"DSND\"},{\"docCount\":2,\"key\":\"DSNW\"},{\"docCount\":2,\"key\":\"DT00\"},{\"docCount\":2,\"key\":\"DT32\"},{\"docCount\":2,\"key\":\"DX32\"},{\"docCount\":2,\"key\":\"DX70\"},{\"docCount\":2,\"key\":\"DX90\"},{\"docCount\":2,\"key\":\"DYFG\"},{\"docCount\":2,\"key\":\"DYNT\"},{\"docCount\":2,\"key\":\"DYSD\"},{\"docCount\":2,\"key\":\"DYSN\"},{\"docCount\":2,\"key\":\"DYTS\"},{\"docCount\":2,\"key\":\"DYXP\"},{\"docCount\":2,\"key\":\"DYXT\"},{\"docCount\":2,\"key\":\"EMNT\"},{\"docCount\":2,\"key\":\"EMSD\"},{\"docCount\":2,\"key\":\"EMSN\"},{\"docCount\":2,\"key\":\"EMXP\"},{\"docCount\":2,\"key\":\"EMXT\"},{\"docCount\":2,\"key\":\"HDSD\"},{\"docCount\":2,\"key\":\"HTDD\"},{\"docCount\":2,\"key\":\"PRCP\"},{\"docCount\":2,\"key\":\"SNOW\"},{\"docCount\":2,\"key\":\"TAVG\"},{\"docCount\":2,\"key\":\"TMAX\"},{\"docCount\":2,\"key\":\"TMIN\"}],\"sumOfOtherDocCounts\":0},\"endDate\":\"2024-09-30T23:59:59\",\"count\":2,\"bounds\":{\"bottomRight\":{\"lat\":38.73331996612251,\"lon\":-77.28913008235395,\"geohash\":\"dqch35pvbwpt\",\"fragment\":true},\"topLeft\":{\"lat\":38.89204999431968,\"lon\":-77.49263003468513,\"geohash\":\"dqbvk85ddge5\",\"fragment\":true}},\"totalFileSize\":487473.0,\"stations\":{\"docCountError\":0,\"buckets\":[{\"docCount\":1,\"key\":\"USC00445204\"},{\"docCount\":1,\"key\":\"USC00448737\"}],\"sumOfOtherDocCounts\":0},\"totalCount\":123848,\"results\":[{\"tar\":\"gsom-latest.tar.gz\",\"endDate\":\"2024-09-30T23:59:59\",\"boundingPoints\":[{\"point\":[-77.49263,38.73332]}],\"filePath\":\"/data/global-summary-of-the-month/access/USC00445204.csv\",\"stations\":[{\"dataTypes\":[{\"coverage\":72.1311475409836,\"endDate\":\"2024-09-30T23:59:59\",\"dateRange\":{\"start\":\"2004-05-01T00:00:00\",\"end\":\"2024-09-30T23:59:59\"},\"searchWeight\":1,\"id\":\"EMXP\",\"startDate\":\"2004-05-01T00:00:00\"},{\"coverage\":67.90123456790124,\"endDate\":\"2024-08-31T23:59:59\",\"dateRange\":{\"start\":\"2004-05-01T00:00:00\",\"end\":\"2024-08-31T23:59:59\"},\"searchWeight\":1,\"id\":\"EMXT\",\"startDate\":\"2004-05-01T00:00:00\"},{\"coverage\":67.75510204081633,\"endDate\":\"2024-09-30T23:59:59\",\"dateRange\":{\"start\":\"2004-04-01T00:00:00\",\"end\":\"2024-09-30T23:59:59\"},\"searchWeight\":1,\"id\":\"DYSD\",\"startDate\":\"2004-04-01T00:00:00\"},{\"coverage\":83.60655737704919,\"endDate\":\"2024-09-30T23:59:59\",\"dateRange\":{\"start\":\"2004-05-01T00:00:00\",\"end\":\"2024-09-30T23:59:59\"},\"searchWeight\":1,\"id\":\"PRCP\",\"startDate\":\"2004-05-01T00:00:00\"},{\"coverage\":72.1311475409836,\"endDate\":\"2024-09-30T23:59:59\",\"dateRange\":{\"start\":\"2004-05-01T00:00:00\",\"end\":\"2024-09-30T23:59:59\"},\"searchWeight\":1,\"id\":\"DP10\",\"startDate\":\"2004-05-01T00:00:00\"},{\"coverage\":67.90123456790124,\"endDate\":\"2024-08-31T23:59:59\",\"dateRange\":{\"start\":\"2004-05-01T00:00:00\",\"end\":\"2024-08-31T23:59:59\"},\"searchWeight\":1,\"id\":\"DX90\",\"startDate\":\"2004-05-01T00:00:00\"},{\"coverage\":67.90123456790124,\"endDate\":\"2024-08-31T23:59:59\",\"dateRange\":{\"start\":\"2004-05-01T00:00:00\",\"end\":\"2024-08-31T23:59:59\"},\"searchWeight\":1,\"id\":\"DX70\",\"startDate\":\"2004-05-01T00:00:00\"},{\"coverage\":69.1358024691358,\"endDate\":\"2024-08-31T23:59:59\",\"dateRange\":{\"start\":\"2004-05-01T00:00:00\",\"end\":\"2024-08-31T23:59:59\"},\"searchWeight\":1,\"id\":\"EMNT\",\"startDate\":\"2004-05-01T00:00:00\"},{\"coverage\":69.1358024691358,\"endDate\":\"2024-08-31T23:59:59\",\"dateRange\":{\"start\":\"2004-05-01T00:00:00\",\"end\":\"2024-08-31T23:59:59\"},\"searchWeight\":1,\"id\":\"DT32\",\"startDate\":\"2004-05-01T00:00:00\"},{\"coverage\":68.9795918367347,\"endDate\":\"2024-09-30T23:59:59\",\"dateRange\":{\"start\":\"2004-04-01T00:00:00\",\"end\":\"2024-09-30T23:59:59\"},\"searchWeight\":1,\"id\":\"DYSN\",\"startDate\":\"2004-04-01T00:00:00\"},{\"coverage\":67.90123456790124,\"endDate\":\"2024-08-31T23:59:59\",\"dateRange\":{\"start\":\"2004-05-01T00:00:00\",\"end\":\"2024-08-31T23:59:59\"},\"searchWeight\":1,\"id\":\"DX32\",\"startDate\":\"2004-05-01T00:00:00\"},{\"coverage\":67.90123456790124,\"endDate\":\"2024-08-31T23:59:59\",\"dateRange\":{\"start\":\"2004-05-01T00:00:00\",\"end\":\"2024-08-31T23:59:59\"},\"searchWeight\":1,\"id\":\"TMAX\",\"startDate\":\"2004-05-01T00:00:00\"},{\"coverage\":67.75510204081633,\"endDate\":\"2024-09-30T23:59:59\",\"dateRange\":{\"start\":\"2004-04-01T00:00:00\",\"end\":\"2024-09-30T23:59:59\"},\"searchWeight\":1,\"id\":\"EMSD\",\"startDate\":\"2004-04-01T00:00:00\"},{\"coverage\":68.9795918367347,\"endDate\":\"2024-09-30T23:59:59\",\"dateRange\":{\"start\":\"2004-04-01T00:00:00\",\"end\":\"2024-09-30T23:59:59\"},\"searchWeight\":1,\"id\":\"EMSN\",\"startDate\":\"2004-04-01T00:00:00\"},{\"coverage\":67.75510204081633,\"endDate\":\"2024-09-30T23:59:59\",\"dateRange\":{\"start\":\"2004-04-01T00:00:00\",\"end\":\"2024-09-30T23:59:59\"},\"searchWeight\":1,\"id\":\"DSND\",\"startDate\":\"2004-04-01T00:00:00\"},{\"coverage\":68.9795918367347,\"endDate\":\"2024-09-30T23:59:59\",\"dateRange\":{\"start\":\"2004-04-01T00:00:00\",\"end\":\"2024-09-30T23:59:59\"},\"searchWeight\":1,\"id\":\"SNOW\",\"startDate\":\"2004-04-01T00:00:00\"},{\"coverage\":18.848167539267017,\"endDate\":\"2022-06-30T23:59:59\",\"dateRange\":{\"start\":\"2006-07-01T00:00:00\",\"end\":\"2022-06-30T23:59:59\"},\"searchWeight\":1,\"id\":\"HDSD\",\"startDate\":\"2006-07-01T00:00:00\"},{\"coverage\":72.1311475409836,\"endDate\":\"2024-09-30T23:59:59\",\"dateRange\":{\"start\":\"2004-05-01T00:00:00\",\"end\":\"2024-09-30T23:59:59\"},\"searchWeight\":1,\"id\":\"DP01\",\"startDate\":\"2004-05-01T00:00:00\"},{\"coverage\":65.84362139917695,\"endDate\":\"2024-08-31T23:59:59\",\"dateRange\":{\"start\":\"2004-05-01T00:00:00\",\"end\":\"2024-08-31T23:59:59\"},\"searchWeight\":1,\"id\":\"HTDD\",\"startDate\":\"2004-05-01T00:00:00\"},{\"coverage\":72.1311475409836,\"endDate\":\"2024-09-30T23:59:59\",\"dateRange\":{\"start\":\"2004-05-01T00:00:00\",\"end\":\"2024-09-30T23:59:59\"},\"searchWeight\":1,\"id\":\"DYXP\",\"startDate\":\"2004-05-01T00:00:00\"},{\"coverage\":25.43103448275862,\"endDate\":\"2024-05-31T23:59:59\",\"dateRange\":{\"start\":\"2005-01-01T00:00:00\",\"end\":\"2024-05-31T23:59:59\"},\"searchWeight\":1,\"id\":\"CDSD\",\"startDate\":\"2005-01-01T00:00:00\"},{\"coverage\":69.1358024691358,\"endDate\":\"2024-08-31T23:59:59\",\"dateRange\":{\"start\":\"2004-05-01T00:00:00\",\"end\":\"2024-08-31T23:59:59\"},\"searchWeight\":1,\"id\":\"DT00\",\"startDate\":\"2004-05-01T00:00:00\"},{\"coverage\":67.90123456790124,\"endDate\":\"2024-08-31T23:59:59\",\"dateRange\":{\"start\":\"2004-05-01T00:00:00\",\"end\":\"2024-08-31T23:59:59\"},\"searchWeight\":1,\"id\":\"DYXT\",\"startDate\":\"2004-05-01T00:00:00\"},{\"coverage\":72.1311475409836,\"endDate\":\"2024-09-30T23:59:59\",\"dateRange\":{\"start\":\"2004-05-01T00:00:00\",\"end\":\"2024-09-30T23:59:59\"},\"searchWeight\":1,\"id\":\"DP1X\",\"startDate\":\"2004-05-01T00:00:00\"},{\"coverage\":53.11203319502075,\"endDate\":\"2024-05-31T23:59:59\",\"dateRange\":{\"start\":\"2004-04-01T00:00:00\",\"end\":\"2024-05-31T23:59:59\"},\"searchWeight\":1,\"id\":\"DYTS\",\"startDate\":\"2004-04-01T00:00:00\"},{\"coverage\":41.078838174273855,\"endDate\":\"2024-05-31T23:59:59\",\"dateRange\":{\"start\":\"2004-04-01T00:00:00\",\"end\":\"2024-05-31T23:59:59\"},\"searchWeight\":1,\"id\":\"DYFG\",\"startDate\":\"2004-04-01T00:00:00\"},{\"coverage\":65.84362139917695,\"endDate\":\"2024-08-31T23:59:59\",\"dateRange\":{\"start\":\"2004-05-01T00:00:00\",\"end\":\"2024-08-31T23:59:59\"},\"searchWeight\":1,\"id\":\"CLDD\",\"startDate\":\"2004-05-01T00:00:00\"},{\"coverage\":68.9795918367347,\"endDate\":\"2024-09-30T23:59:59\",\"dateRange\":{\"start\":\"2004-04-01T00:00:00\",\"end\":\"2024-09-30T23:59:59\"},\"searchWeight\":1,\"id\":\"DSNW\",\"startDate\":\"2004-04-01T00:00:00\"},{\"coverage\":67.07818930041152,\"endDate\":\"2024-08-31T23:59:59\",\"dateRange\":{\"start\":\"2004-05-01T00:00:00\",\"end\":\"2024-08-31T23:59:59\"},\"searchWeight\":1,\"id\":\"TAVG\",\"startDate\":\"2004-05-01T00:00:00\"},{\"coverage\":69.1358024691358,\"endDate\":\"2024-08-31T23:59:59\",\"dateRange\":{\"start\":\"2004-05-01T00:00:00\",\"end\":\"2024-08-31T23:59:59\"},\"searchWeight\":1,\"id\":\"TMIN\",\"startDate\":\"2004-05-01T00:00:00\"},{\"coverage\":69.1358024691358,\"endDate\":\"2024-08-31T23:59:59\",\"dateRange\":{\"start\":\"2004-05-01T00:00:00\",\"end\":\"2024-08-31T23:59:59\"},\"searchWeight\":1,\"id\":\"DYNT\",\"startDate\":\"2004-05-01T00:00:00\"}],\"name\":\"MANASSAS, VA US\",\"id\":\"USC00445204\"}],\"dataTypes\":[{\"dateRange\":{\"start\":null,\"end\":null},\"searchWeight\":1,\"name\":\"Extreme maximum precipitation\",\"id\":\"EMXP\"},{\"dateRange\":{\"start\":null,\"end\":null},\"searchWeight\":1,\"name\":\"Extreme maximum temperature\",\"id\":\"EMXT\"},{\"dateRange\":{\"start\":null,\"end\":null},\"searchWeight\":1,\"name\":\"Day of month of highest daily snow depth\",\"id\":\"DYSD\"},{\"dateRange\":{\"start\":null,\"end\":null},\"searchWeight\":1,\"name\":\"Precipitation\",\"id\":\"PRCP\"},{\"dateRange\":{\"start\":null,\"end\":null},\"searchWeight\":1,\"name\":\"Number days with greater than 0.10 inch (2.54mm) of precipitation\",\"id\":\"DP10\"},{\"dateRange\":{\"start\":null,\"end\":null},\"searchWeight\":1,\"name\":\"Number days with maximum temperature greater than 90F (32.2C)\",\"id\":\"DX90\"},{\"dateRange\":{\"start\":null,\"end\":null},\"searchWeight\":1,\"name\":\"Number days with maximum temperature greater than 70F (21.1C)\",\"id\":\"DX70\"},{\"dateRange\":{\"start\":null,\"end\":null},\"searchWeight\":1,\"name\":\"Extreme minimum temperature\",\"id\":\"EMNT\"},{\"dateRange\":{\"start\":null,\"end\":null},\"searchWeight\":1,\"name\":\"Number days with minimum temperature less than 32F (0C)\",\"id\":\"DT32\"},{\"dateRange\":{\"start\":null,\"end\":null},\"searchWeight\":1,\"name\":\"Day of month of highest daily snowfall\",\"id\":\"DYSN\"},{\"dateRange\":{\"start\":null,\"end\":null},\"searchWeight\":1,\"name\":\"Number days with maximum temperature less than 32F (0C)\",\"id\":\"DX32\"},{\"dateRange\":{\"start\":null,\"end\":null},\"searchWeight\":1,\"name\":\"Average Maximum Temperature\",\"id\":\"TMAX\"},{\"dateRange\":{\"start\":null,\"end\":null},\"searchWeight\":1,\"name\":\"Extreme maximum snow depth\",\"id\":\"EMSD\"},{\"dateRange\":{\"start\":null,\"end\":null},\"searchWeight\":1,\"name\":\"Extreme maximum snowfall\",\"id\":\"EMSN\"},{\"dateRange\":{\"start\":null,\"end\":null},\"searchWeight\":1,\"name\":\"Number days with greater than 1.0 inch (25.4mm) of snow depth\",\"id\":\"DSND\"},{\"dateRange\":{\"start\":null,\"end\":null},\"searchWeight\":1,\"name\":\"Total Monthly Snowfall\",\"id\":\"SNOW\"},{\"dateRange\":{\"start\":null,\"end\":null},\"searchWeight\":1,\"name\":\"Heating Degree Days Season to TIME\",\"id\":\"HDSD\"},{\"dateRange\":{\"start\":null,\"end\":null},\"searchWeight\":1,\"name\":\"Number days with greater than 0.01 inch (0.25mm) of precipitation\",\"id\":\"DP01\"},{\"dateRange\":{\"start\":null,\"end\":null},\"searchWeight\":1,\"name\":\"Heating Degree Days\",\"id\":\"HTDD\"},{\"dateRange\":{\"start\":null,\"end\":null},\"searchWeight\":1,\"name\":\"Day of month of highest daily total of precipitation\",\"id\":\"DYXP\"},{\"dateRange\":{\"start\":null,\"end\":null},\"searchWeight\":1,\"name\":\"Cooling Degree Days Season to Date\",\"id\":\"CDSD\"},{\"dateRange\":{\"start\":null,\"end\":null},\"searchWeight\":1,\"name\":\"Number days with minimum temperature less than 0F (-17.6C)\",\"id\":\"DT00\"},{\"dateRange\":{\"start\":null,\"end\":null},\"searchWeight\":1,\"name\":\"Day of month with extreme maximum temperature\",\"id\":\"DYXT\"},{\"dateRange\":{\"start\":null,\"end\":null},\"searchWeight\":1,\"name\":\"Number days with greater than 1.00 inch (25.4mm) of precipitation\",\"id\":\"DP1X\"},{\"dateRange\":{\"start\":null,\"end\":null},\"searchWeight\":1,\"name\":\"Number days with thunderstorms\",\"id\":\"DYTS\"},{\"dateRange\":{\"start\":null,\"end\":null},\"searchWeight\":1,\"name\":\"Number days with fog\",\"id\":\"DYFG\"},{\"dateRange\":{\"start\":null,\"end\":null},\"searchWeight\":1,\"name\":\"Cooling Degree Days\",\"id\":\"CLDD\"},{\"dateRange\":{\"start\":null,\"end\":null},\"searchWeight\":1,\"name\":\"Number of days with greater than or equal to 1.0 inch (25.4mm) of snowfall\",\"id\":\"DSNW\"},{\"dateRange\":{\"start\":null,\"end\":null},\"searchWeight\":1,\"name\":\"Average Average Temperature\",\"id\":\"TAVG\"},{\"dateRange\":{\"start\":null,\"end\":null},\"searchWeight\":1,\"name\":\"Average Minimum Temperature\",\"id\":\"TMIN\"},{\"dateRange\":{\"start\":null,\"end\":null},\"searchWeight\":1,\"name\":\"Day of month of extreme minimum temperature\",\"id\":\"DYNT\"}],\"fileSize\":96140,\"centroid\":{\"point\":[-77.49263,38.73332]},\"name\":\"USC00445204.csv\",\"location\":{\"coordinates\":[-77.49263,38.73332],\"type\":\"point\"},\"id\":\"gsom-latest.tar.gz:USC00445204.csv\",\"dataTypesCount\":31,\"startDate\":\"2004-04-01T00:00:00\"},{\"tar\":\"gsom-latest.tar.gz\",\"endDate\":\"2024-09-30T23:59:59\",\"boundingPoints\":[{\"point\":[-77.28913,38.89205]}],\"filePath\":\"/data/global-summary-of-the-month/access/USC00448737.csv\",\"stations\":[{\"dataTypes\":[{\"coverage\":85.75020955574183,\"endDate\":\"2024-09-30T23:59:59\",\"dateRange\":{\"start\":\"1925-04-01T00:00:00\",\"end\":\"2024-09-30T23:59:59\"},\"searchWeight\":1,\"id\":\"EMXP\",\"startDate\":\"1925-04-01T00:00:00\"},{\"coverage\":37.65093304061471,\"endDate\":\"2024-09-30T23:59:59\",\"dateRange\":{\"start\":\"1948-10-01T00:00:00\",\"end\":\"2024-09-30T23:59:59\"},\"searchWeight\":1,\"id\":\"EMXT\",\"startDate\":\"1948-10-01T00:00:00\"},{\"coverage\":91.40369967355821,\"endDate\":\"2024-09-30T23:59:59\",\"dateRange\":{\"start\":\"1948-02-01T00:00:00\",\"end\":\"2024-09-30T23:59:59\"},\"searchWeight\":1,\"id\":\"DYSD\",\"startDate\":\"1948-02-01T00:00:00\"},{\"coverage\":85.83403185247276,\"endDate\":\"2024-09-30T23:59:59\",\"dateRange\":{\"start\":\"1925-04-01T00:00:00\",\"end\":\"2024-09-30T23:59:59\"},\"searchWeight\":1,\"id\":\"PRCP\",\"startDate\":\"1925-04-01T00:00:00\"},{\"coverage\":85.75020955574183,\"endDate\":\"2024-09-30T23:59:59\",\"dateRange\":{\"start\":\"1925-04-01T00:00:00\",\"end\":\"2024-09-30T23:59:59\"},\"searchWeight\":1,\"id\":\"DP10\",\"startDate\":\"1925-04-01T00:00:00\"},{\"coverage\":37.65093304061471,\"endDate\":\"2024-09-30T23:59:59\",\"dateRange\":{\"start\":\"1948-10-01T00:00:00\",\"end\":\"2024-09-30T23:59:59\"},\"searchWeight\":1,\"id\":\"DX90\",\"startDate\":\"1948-10-01T00:00:00\"},{\"coverage\":37.65093304061471,\"endDate\":\"2024-09-30T23:59:59\",\"dateRange\":{\"start\":\"1948-10-01T00:00:00\",\"end\":\"2024-09-30T23:59:59\"},\"searchWeight\":1,\"id\":\"DX70\",\"startDate\":\"1948-10-01T00:00:00\"},{\"coverage\":37.65093304061471,\"endDate\":\"2024-09-30T23:59:59\",\"dateRange\":{\"start\":\"1948-10-01T00:00:00\",\"end\":\"2024-09-30T23:59:59\"},\"searchWeight\":1,\"id\":\"EMNT\",\"startDate\":\"1948-10-01T00:00:00\"},{\"coverage\":37.65093304061471,\"endDate\":\"2024-09-30T23:59:59\",\"dateRange\":{\"start\":\"1948-10-01T00:00:00\",\"end\":\"2024-09-30T23:59:59\"},\"searchWeight\":1,\"id\":\"DT32\",\"startDate\":\"1948-10-01T00:00:00\"},{\"coverage\":77.26120033812342,\"endDate\":\"2024-09-30T23:59:59\",\"dateRange\":{\"start\":\"1926-02-01T00:00:00\",\"end\":\"2024-09-30T23:59:59\"},\"searchWeight\":1,\"id\":\"DYSN\",\"startDate\":\"1926-02-01T00:00:00\"},{\"coverage\":37.65093304061471,\"endDate\":\"2024-09-30T23:59:59\",\"dateRange\":{\"start\":\"1948-10-01T00:00:00\",\"end\":\"2024-09-30T23:59:59\"},\"searchWeight\":1,\"id\":\"DX32\",\"startDate\":\"1948-10-01T00:00:00\"},{\"coverage\":37.65093304061471,\"endDate\":\"2024-09-30T23:59:59\",\"dateRange\":{\"start\":\"1948-10-01T00:00:00\",\"end\":\"2024-09-30T23:59:59\"},\"searchWeight\":1,\"id\":\"TMAX\",\"startDate\":\"1948-10-01T00:00:00\"},{\"coverage\":91.40369967355821,\"endDate\":\"2024-09-30T23:59:59\",\"dateRange\":{\"start\":\"1948-02-01T00:00:00\",\"end\":\"2024-09-30T23:59:59\"},\"searchWeight\":1,\"id\":\"EMSD\",\"startDate\":\"1948-02-01T00:00:00\"},{\"coverage\":77.26120033812342,\"endDate\":\"2024-09-30T23:59:59\",\"dateRange\":{\"start\":\"1926-02-01T00:00:00\",\"end\":\"2024-09-30T23:59:59\"},\"searchWeight\":1,\"id\":\"EMSN\",\"startDate\":\"1926-02-01T00:00:00\"},{\"coverage\":77.26120033812342,\"endDate\":\"2024-09-30T23:59:59\",\"dateRange\":{\"start\":\"1926-02-01T00:00:00\",\"end\":\"2024-09-30T23:59:59\"},\"searchWeight\":1,\"id\":\"SNOW\",\"startDate\":\"1926-02-01T00:00:00\"},{\"coverage\":91.40369967355821,\"endDate\":\"2024-09-30T23:59:59\",\"dateRange\":{\"start\":\"1948-02-01T00:00:00\",\"end\":\"2024-09-30T23:59:59\"},\"searchWeight\":1,\"id\":\"DSND\",\"startDate\":\"1948-02-01T00:00:00\"},{\"coverage\":91.42011834319527,\"endDate\":\"2024-09-30T23:59:59\",\"dateRange\":{\"start\":\"1996-07-01T00:00:00\",\"end\":\"2024-09-30T23:59:59\"},\"searchWeight\":1,\"id\":\"HDSD\",\"startDate\":\"1996-07-01T00:00:00\"},{\"coverage\":85.75020955574183,\"endDate\":\"2024-09-30T23:59:59\",\"dateRange\":{\"start\":\"1925-04-01T00:00:00\",\"end\":\"2024-09-30T23:59:59\"},\"searchWeight\":1,\"id\":\"DP01\",\"startDate\":\"1925-04-01T00:00:00\"},{\"coverage\":85.75020955574183,\"endDate\":\"2024-09-30T23:59:59\",\"dateRange\":{\"start\":\"1925-04-01T00:00:00\",\"end\":\"2024-09-30T23:59:59\"},\"searchWeight\":1,\"id\":\"DYXP\",\"startDate\":\"1925-04-01T00:00:00\"},{\"coverage\":37.65093304061471,\"endDate\":\"2024-09-30T23:59:59\",\"dateRange\":{\"start\":\"1948-10-01T00:00:00\",\"end\":\"2024-09-30T23:59:59\"},\"searchWeight\":1,\"id\":\"HTDD\",\"startDate\":\"1948-10-01T00:00:00\"},{\"coverage\":31.167400881057265,\"endDate\":\"2024-09-30T23:59:59\",\"dateRange\":{\"start\":\"1949-01-01T00:00:00\",\"end\":\"2024-09-30T23:59:59\"},\"searchWeight\":1,\"id\":\"CDSD\",\"startDate\":\"1949-01-01T00:00:00\"},{\"coverage\":37.65093304061471,\"endDate\":\"2024-09-30T23:59:59\",\"dateRange\":{\"start\":\"1948-10-01T00:00:00\",\"end\":\"2024-09-30T23:59:59\"},\"searchWeight\":1,\"id\":\"DT00\",\"startDate\":\"1948-10-01T00:00:00\"},{\"coverage\":37.65093304061471,\"endDate\":\"2024-09-30T23:59:59\",\"dateRange\":{\"start\":\"1948-10-01T00:00:00\",\"end\":\"2024-09-30T23:59:59\"},\"searchWeight\":1,\"id\":\"DYXT\",\"startDate\":\"1948-10-01T00:00:00\"},{\"coverage\":85.75020955574183,\"endDate\":\"2024-09-30T23:59:59\",\"dateRange\":{\"start\":\"1925-04-01T00:00:00\",\"end\":\"2024-09-30T23:59:59\"},\"searchWeight\":1,\"id\":\"DP1X\",\"startDate\":\"1925-04-01T00:00:00\"},{\"coverage\":54.938956714761375,\"endDate\":\"2024-08-31T23:59:59\",\"dateRange\":{\"start\":\"1949-07-01T00:00:00\",\"end\":\"2024-08-31T23:59:59\"},\"searchWeight\":1,\"id\":\"DYTS\",\"startDate\":\"1949-07-01T00:00:00\"},{\"coverage\":37.65093304061471,\"endDate\":\"2024-09-30T23:59:59\",\"dateRange\":{\"start\":\"1948-10-01T00:00:00\",\"end\":\"2024-09-30T23:59:59\"},\"searchWeight\":1,\"id\":\"CLDD\",\"startDate\":\"1948-10-01T00:00:00\"},{\"coverage\":39.91130820399113,\"endDate\":\"2024-09-30T23:59:59\",\"dateRange\":{\"start\":\"1949-07-01T00:00:00\",\"end\":\"2024-09-30T23:59:59\"},\"searchWeight\":1,\"id\":\"DYFG\",\"startDate\":\"1949-07-01T00:00:00\"},{\"coverage\":77.26120033812342,\"endDate\":\"2024-09-30T23:59:59\",\"dateRange\":{\"start\":\"1926-02-01T00:00:00\",\"end\":\"2024-09-30T23:59:59\"},\"searchWeight\":1,\"id\":\"DSNW\",\"startDate\":\"1926-02-01T00:00:00\"},{\"coverage\":37.65093304061471,\"endDate\":\"2024-09-30T23:59:59\",\"dateRange\":{\"start\":\"1948-10-01T00:00:00\",\"end\":\"2024-09-30T23:59:59\"},\"searchWeight\":1,\"id\":\"TAVG\",\"startDate\":\"1948-10-01T00:00:00\"},{\"coverage\":37.65093304061471,\"endDate\":\"2024-09-30T23:59:59\",\"dateRange\":{\"start\":\"1948-10-01T00:00:00\",\"end\":\"2024-09-30T23:59:59\"},\"searchWeight\":1,\"id\":\"TMIN\",\"startDate\":\"1948-10-01T00:00:00\"},{\"coverage\":37.65093304061471,\"endDate\":\"2024-09-30T23:59:59\",\"dateRange\":{\"start\":\"1948-10-01T00:00:00\",\"end\":\"2024-09-30T23:59:59\"},\"searchWeight\":1,\"id\":\"DYNT\",\"startDate\":\"1948-10-01T00:00:00\"}],\"name\":\"VIENNA, VA US\",\"id\":\"USC00448737\"}],\"dataTypes\":[{\"dateRange\":{\"start\":null,\"end\":null},\"searchWeight\":1,\"name\":\"Extreme maximum precipitation\",\"id\":\"EMXP\"},{\"dateRange\":{\"start\":null,\"end\":null},\"searchWeight\":1,\"name\":\"Extreme maximum temperature\",\"id\":\"EMXT\"},{\"dateRange\":{\"start\":null,\"end\":null},\"searchWeight\":1,\"name\":\"Day of month of highest daily snow depth\",\"id\":\"DYSD\"},{\"dateRange\":{\"start\":null,\"end\":null},\"searchWeight\":1,\"name\":\"Precipitation\",\"id\":\"PRCP\"},{\"dateRange\":{\"start\":null,\"end\":null},\"searchWeight\":1,\"name\":\"Number days with greater than 0.10 inch (2.54mm) of precipitation\",\"id\":\"DP10\"},{\"dateRange\":{\"start\":null,\"end\":null},\"searchWeight\":1,\"name\":\"Number days with maximum temperature greater than 90F (32.2C)\",\"id\":\"DX90\"},{\"dateRange\":{\"start\":null,\"end\":null},\"searchWeight\":1,\"name\":\"Number days with maximum temperature greater than 70F (21.1C)\",\"id\":\"DX70\"},{\"dateRange\":{\"start\":null,\"end\":null},\"searchWeight\":1,\"name\":\"Extreme minimum temperature\",\"id\":\"EMNT\"},{\"dateRange\":{\"start\":null,\"end\":null},\"searchWeight\":1,\"name\":\"Number days with minimum temperature less than 32F (0C)\",\"id\":\"DT32\"},{\"dateRange\":{\"start\":null,\"end\":null},\"searchWeight\":1,\"name\":\"Day of month of highest daily snowfall\",\"id\":\"DYSN\"},{\"dateRange\":{\"start\":null,\"end\":null},\"searchWeight\":1,\"name\":\"Number days with maximum temperature less than 32F (0C)\",\"id\":\"DX32\"},{\"dateRange\":{\"start\":null,\"end\":null},\"searchWeight\":1,\"name\":\"Average Maximum Temperature\",\"id\":\"TMAX\"},{\"dateRange\":{\"start\":null,\"end\":null},\"searchWeight\":1,\"name\":\"Extreme maximum snow depth\",\"id\":\"EMSD\"},{\"dateRange\":{\"start\":null,\"end\":null},\"searchWeight\":1,\"name\":\"Extreme maximum snowfall\",\"id\":\"EMSN\"},{\"dateRange\":{\"start\":null,\"end\":null},\"searchWeight\":1,\"name\":\"Total Monthly Snowfall\",\"id\":\"SNOW\"},{\"dateRange\":{\"start\":null,\"end\":null},\"searchWeight\":1,\"name\":\"Number days with greater than 1.0 inch (25.4mm) of snow depth\",\"id\":\"DSND\"},{\"dateRange\":{\"start\":null,\"end\":null},\"searchWeight\":1,\"name\":\"Heating Degree Days Season to TIME\",\"id\":\"HDSD\"},{\"dateRange\":{\"start\":null,\"end\":null},\"searchWeight\":1,\"name\":\"Number days with greater than 0.01 inch (0.25mm) of precipitation\",\"id\":\"DP01\"},{\"dateRange\":{\"start\":null,\"end\":null},\"searchWeight\":1,\"name\":\"Day of month of highest daily total of precipitation\",\"id\":\"DYXP\"},{\"dateRange\":{\"start\":null,\"end\":null},\"searchWeight\":1,\"name\":\"Heating Degree Days\",\"id\":\"HTDD\"},{\"dateRange\":{\"start\":null,\"end\":null},\"searchWeight\":1,\"name\":\"Cooling Degree Days Season to Date\",\"id\":\"CDSD\"},{\"dateRange\":{\"start\":null,\"end\":null},\"searchWeight\":1,\"name\":\"Number days with minimum temperature less than 0F (-17.6C)\",\"id\":\"DT00\"},{\"dateRange\":{\"start\":null,\"end\":null},\"searchWeight\":1,\"name\":\"Day of month with extreme maximum temperature\",\"id\":\"DYXT\"},{\"dateRange\":{\"start\":null,\"end\":null},\"searchWeight\":1,\"name\":\"Number days with greater than 1.00 inch (25.4mm) of precipitation\",\"id\":\"DP1X\"},{\"dateRange\":{\"start\":null,\"end\":null},\"searchWeight\":1,\"name\":\"Number days with thunderstorms\",\"id\":\"DYTS\"},{\"dateRange\":{\"start\":null,\"end\":null},\"searchWeight\":1,\"name\":\"Cooling Degree Days\",\"id\":\"CLDD\"},{\"dateRange\":{\"start\":null,\"end\":null},\"searchWeight\":1,\"name\":\"Number days with fog\",\"id\":\"DYFG\"},{\"dateRange\":{\"start\":null,\"end\":null},\"searchWeight\":1,\"name\":\"Number of days with greater than or equal to 1.0 inch (25.4mm) of snowfall\",\"id\":\"DSNW\"},{\"dateRange\":{\"start\":null,\"end\":null},\"searchWeight\":1,\"name\":\"Average Average Temperature\",\"id\":\"TAVG\"},{\"dateRange\":{\"start\":null,\"end\":null},\"searchWeight\":1,\"name\":\"Average Minimum Temperature\",\"id\":\"TMIN\"},{\"dateRange\":{\"start\":null,\"end\":null},\"searchWeight\":1,\"name\":\"Day of month of extreme minimum temperature\",\"id\":\"DYNT\"}],\"fileSize\":391333,\"centroid\":{\"point\":[-77.28913,38.89205]},\"name\":\"USC00448737.csv\",\"location\":{\"coordinates\":[-77.28913,38.89205],\"type\":\"point\"},\"id\":\"gsom-latest.tar.gz:USC00448737.csv\",\"dataTypesCount\":31,\"startDate\":\"1925-04-01T00:00:00\"}],\"startDate\":\"1925-04-01T00:00:00\"}'"
      ]
     },
     "execution_count": 20,
     "metadata": {},
     "output_type": "execute_result"
    }
   ],
   "source": [
    "bounding_box = f\"{bb[0]},{bb[1]},{bb[2]},{bb[3]}\"\n",
    "print(bounding_box)\n",
    "params = {\"dataset\":\"global-summary-of-the-month\",\n",
    "                  \"bbox\": bounding_box,\n",
    "                  \"dataTypes\": \"TMIN,TMAX,PRCP\",\n",
    "                  \"startDate\": \"2022-01-01\",\n",
    "                  \"endDate\": \"2022-02-01\"}\n",
    "headers = co.make_headers()\n",
    "base = \"https://www.ncei.noaa.gov/access/services/search/v1/data\"\n",
    "r = requests.get(url=base, params=params, headers=headers)\n",
    "r.text"
   ]
  },
  {
   "cell_type": "code",
   "execution_count": null,
   "metadata": {},
   "outputs": [],
   "source": []
  }
 ],
 "metadata": {
  "kernelspec": {
   "display_name": ".venv",
   "language": "python",
   "name": "python3"
  },
  "language_info": {
   "codemirror_mode": {
    "name": "ipython",
    "version": 3
   },
   "file_extension": ".py",
   "mimetype": "text/x-python",
   "name": "python",
   "nbconvert_exporter": "python",
   "pygments_lexer": "ipython3",
   "version": "3.12.5"
  }
 },
 "nbformat": 4,
 "nbformat_minor": 2
}
