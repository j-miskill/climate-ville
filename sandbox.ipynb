{
 "cells": [
  {
   "cell_type": "code",
   "execution_count": 1,
   "metadata": {},
   "outputs": [],
   "source": [
    "import requests\n",
    "import json\n",
    "import os\n",
    "import climate\n",
    "from pprint import pprint\n",
    "import pandas as pd\n",
    "import numpy as np\n",
    "import io\n",
    "import census\n",
    "from pprint import pprint"
   ]
  },
  {
   "cell_type": "code",
   "execution_count": 3,
   "metadata": {},
   "outputs": [
    {
     "ename": "JSONDecodeError",
     "evalue": "Expecting value: line 1 column 1 (char 0)",
     "output_type": "error",
     "traceback": [
      "\u001b[0;31m---------------------------------------------------------------------------\u001b[0m",
      "\u001b[0;31mJSONDecodeError\u001b[0m                           Traceback (most recent call last)",
      "Cell \u001b[0;32mIn[3], line 2\u001b[0m\n\u001b[1;32m      1\u001b[0m co \u001b[38;5;241m=\u001b[39m climate\u001b[38;5;241m.\u001b[39mClimateAgent()\n\u001b[0;32m----> 2\u001b[0m station_id \u001b[38;5;241m=\u001b[39m \u001b[43mco\u001b[49m\u001b[38;5;241;43m.\u001b[39;49m\u001b[43mget_station_id\u001b[49m\u001b[43m(\u001b[49m\u001b[38;5;124;43m\"\u001b[39;49m\u001b[38;5;124;43mNorfolk, Virginia\u001b[39;49m\u001b[38;5;124;43m\"\u001b[39;49m\u001b[43m)\u001b[49m\n\u001b[1;32m      3\u001b[0m co\u001b[38;5;241m.\u001b[39mget_data_for_station_id(station_id\u001b[38;5;241m=\u001b[39mstation_id)\n",
      "File \u001b[0;32m~/class/f24/ds6600/project/climate-ville/climate.py:88\u001b[0m, in \u001b[0;36mClimateAgent.get_station_id\u001b[0;34m(self, city)\u001b[0m\n\u001b[1;32m     82\u001b[0m params \u001b[38;5;241m=\u001b[39m {\u001b[38;5;124m\"\u001b[39m\u001b[38;5;124mdataset\u001b[39m\u001b[38;5;124m\"\u001b[39m:\u001b[38;5;124m\"\u001b[39m\u001b[38;5;124mglobal-summary-of-the-month\u001b[39m\u001b[38;5;124m\"\u001b[39m,\n\u001b[1;32m     83\u001b[0m           \u001b[38;5;124m\"\u001b[39m\u001b[38;5;124mbbox\u001b[39m\u001b[38;5;124m\"\u001b[39m: bounding_box,\n\u001b[1;32m     84\u001b[0m           \u001b[38;5;124m\"\u001b[39m\u001b[38;5;124mdataTypes\u001b[39m\u001b[38;5;124m\"\u001b[39m: \u001b[38;5;124m\"\u001b[39m\u001b[38;5;124mTMIN,TMAX,PRCP\u001b[39m\u001b[38;5;124m\"\u001b[39m,\n\u001b[1;32m     85\u001b[0m           \u001b[38;5;124m\"\u001b[39m\u001b[38;5;124mstartDate\u001b[39m\u001b[38;5;124m\"\u001b[39m: \u001b[38;5;124m\"\u001b[39m\u001b[38;5;124m2022-01-01\u001b[39m\u001b[38;5;124m\"\u001b[39m,\n\u001b[1;32m     86\u001b[0m           \u001b[38;5;124m\"\u001b[39m\u001b[38;5;124mendDate\u001b[39m\u001b[38;5;124m\"\u001b[39m: \u001b[38;5;124m\"\u001b[39m\u001b[38;5;124m2022-02-01\u001b[39m\u001b[38;5;124m\"\u001b[39m}\n\u001b[1;32m     87\u001b[0m r \u001b[38;5;241m=\u001b[39m requests\u001b[38;5;241m.\u001b[39mget(base, params\u001b[38;5;241m=\u001b[39mparams, headers\u001b[38;5;241m=\u001b[39mheaders)\n\u001b[0;32m---> 88\u001b[0m list_of_stations \u001b[38;5;241m=\u001b[39m \u001b[43mjson\u001b[49m\u001b[38;5;241;43m.\u001b[39;49m\u001b[43mloads\u001b[49m\u001b[43m(\u001b[49m\u001b[43mr\u001b[49m\u001b[38;5;241;43m.\u001b[39;49m\u001b[43mtext\u001b[49m\u001b[43m)\u001b[49m[\u001b[38;5;124m'\u001b[39m\u001b[38;5;124mresults\u001b[39m\u001b[38;5;124m'\u001b[39m]\n\u001b[1;32m     89\u001b[0m name_of_station \u001b[38;5;241m=\u001b[39m list_of_stations[\u001b[38;5;241m0\u001b[39m][\u001b[38;5;124m'\u001b[39m\u001b[38;5;124mstations\u001b[39m\u001b[38;5;124m'\u001b[39m][\u001b[38;5;241m0\u001b[39m][\u001b[38;5;124m'\u001b[39m\u001b[38;5;124mname\u001b[39m\u001b[38;5;124m'\u001b[39m]\n\u001b[1;32m     90\u001b[0m station_id \u001b[38;5;241m=\u001b[39m list_of_stations[\u001b[38;5;241m0\u001b[39m][\u001b[38;5;124m'\u001b[39m\u001b[38;5;124mstations\u001b[39m\u001b[38;5;124m'\u001b[39m][\u001b[38;5;241m0\u001b[39m][\u001b[38;5;124m'\u001b[39m\u001b[38;5;124mid\u001b[39m\u001b[38;5;124m'\u001b[39m]\n",
      "File \u001b[0;32m~/.pyenv/versions/3.12.5/lib/python3.12/json/__init__.py:346\u001b[0m, in \u001b[0;36mloads\u001b[0;34m(s, cls, object_hook, parse_float, parse_int, parse_constant, object_pairs_hook, **kw)\u001b[0m\n\u001b[1;32m    341\u001b[0m     s \u001b[38;5;241m=\u001b[39m s\u001b[38;5;241m.\u001b[39mdecode(detect_encoding(s), \u001b[38;5;124m'\u001b[39m\u001b[38;5;124msurrogatepass\u001b[39m\u001b[38;5;124m'\u001b[39m)\n\u001b[1;32m    343\u001b[0m \u001b[38;5;28;01mif\u001b[39;00m (\u001b[38;5;28mcls\u001b[39m \u001b[38;5;129;01mis\u001b[39;00m \u001b[38;5;28;01mNone\u001b[39;00m \u001b[38;5;129;01mand\u001b[39;00m object_hook \u001b[38;5;129;01mis\u001b[39;00m \u001b[38;5;28;01mNone\u001b[39;00m \u001b[38;5;129;01mand\u001b[39;00m\n\u001b[1;32m    344\u001b[0m         parse_int \u001b[38;5;129;01mis\u001b[39;00m \u001b[38;5;28;01mNone\u001b[39;00m \u001b[38;5;129;01mand\u001b[39;00m parse_float \u001b[38;5;129;01mis\u001b[39;00m \u001b[38;5;28;01mNone\u001b[39;00m \u001b[38;5;129;01mand\u001b[39;00m\n\u001b[1;32m    345\u001b[0m         parse_constant \u001b[38;5;129;01mis\u001b[39;00m \u001b[38;5;28;01mNone\u001b[39;00m \u001b[38;5;129;01mand\u001b[39;00m object_pairs_hook \u001b[38;5;129;01mis\u001b[39;00m \u001b[38;5;28;01mNone\u001b[39;00m \u001b[38;5;129;01mand\u001b[39;00m \u001b[38;5;129;01mnot\u001b[39;00m kw):\n\u001b[0;32m--> 346\u001b[0m     \u001b[38;5;28;01mreturn\u001b[39;00m \u001b[43m_default_decoder\u001b[49m\u001b[38;5;241;43m.\u001b[39;49m\u001b[43mdecode\u001b[49m\u001b[43m(\u001b[49m\u001b[43ms\u001b[49m\u001b[43m)\u001b[49m\n\u001b[1;32m    347\u001b[0m \u001b[38;5;28;01mif\u001b[39;00m \u001b[38;5;28mcls\u001b[39m \u001b[38;5;129;01mis\u001b[39;00m \u001b[38;5;28;01mNone\u001b[39;00m:\n\u001b[1;32m    348\u001b[0m     \u001b[38;5;28mcls\u001b[39m \u001b[38;5;241m=\u001b[39m JSONDecoder\n",
      "File \u001b[0;32m~/.pyenv/versions/3.12.5/lib/python3.12/json/decoder.py:337\u001b[0m, in \u001b[0;36mJSONDecoder.decode\u001b[0;34m(self, s, _w)\u001b[0m\n\u001b[1;32m    332\u001b[0m \u001b[38;5;28;01mdef\u001b[39;00m \u001b[38;5;21mdecode\u001b[39m(\u001b[38;5;28mself\u001b[39m, s, _w\u001b[38;5;241m=\u001b[39mWHITESPACE\u001b[38;5;241m.\u001b[39mmatch):\n\u001b[1;32m    333\u001b[0m \u001b[38;5;250m    \u001b[39m\u001b[38;5;124;03m\"\"\"Return the Python representation of ``s`` (a ``str`` instance\u001b[39;00m\n\u001b[1;32m    334\u001b[0m \u001b[38;5;124;03m    containing a JSON document).\u001b[39;00m\n\u001b[1;32m    335\u001b[0m \n\u001b[1;32m    336\u001b[0m \u001b[38;5;124;03m    \"\"\"\u001b[39;00m\n\u001b[0;32m--> 337\u001b[0m     obj, end \u001b[38;5;241m=\u001b[39m \u001b[38;5;28;43mself\u001b[39;49m\u001b[38;5;241;43m.\u001b[39;49m\u001b[43mraw_decode\u001b[49m\u001b[43m(\u001b[49m\u001b[43ms\u001b[49m\u001b[43m,\u001b[49m\u001b[43m \u001b[49m\u001b[43midx\u001b[49m\u001b[38;5;241;43m=\u001b[39;49m\u001b[43m_w\u001b[49m\u001b[43m(\u001b[49m\u001b[43ms\u001b[49m\u001b[43m,\u001b[49m\u001b[43m \u001b[49m\u001b[38;5;241;43m0\u001b[39;49m\u001b[43m)\u001b[49m\u001b[38;5;241;43m.\u001b[39;49m\u001b[43mend\u001b[49m\u001b[43m(\u001b[49m\u001b[43m)\u001b[49m\u001b[43m)\u001b[49m\n\u001b[1;32m    338\u001b[0m     end \u001b[38;5;241m=\u001b[39m _w(s, end)\u001b[38;5;241m.\u001b[39mend()\n\u001b[1;32m    339\u001b[0m     \u001b[38;5;28;01mif\u001b[39;00m end \u001b[38;5;241m!=\u001b[39m \u001b[38;5;28mlen\u001b[39m(s):\n",
      "File \u001b[0;32m~/.pyenv/versions/3.12.5/lib/python3.12/json/decoder.py:355\u001b[0m, in \u001b[0;36mJSONDecoder.raw_decode\u001b[0;34m(self, s, idx)\u001b[0m\n\u001b[1;32m    353\u001b[0m     obj, end \u001b[38;5;241m=\u001b[39m \u001b[38;5;28mself\u001b[39m\u001b[38;5;241m.\u001b[39mscan_once(s, idx)\n\u001b[1;32m    354\u001b[0m \u001b[38;5;28;01mexcept\u001b[39;00m \u001b[38;5;167;01mStopIteration\u001b[39;00m \u001b[38;5;28;01mas\u001b[39;00m err:\n\u001b[0;32m--> 355\u001b[0m     \u001b[38;5;28;01mraise\u001b[39;00m JSONDecodeError(\u001b[38;5;124m\"\u001b[39m\u001b[38;5;124mExpecting value\u001b[39m\u001b[38;5;124m\"\u001b[39m, s, err\u001b[38;5;241m.\u001b[39mvalue) \u001b[38;5;28;01mfrom\u001b[39;00m \u001b[38;5;28;01mNone\u001b[39;00m\n\u001b[1;32m    356\u001b[0m \u001b[38;5;28;01mreturn\u001b[39;00m obj, end\n",
      "\u001b[0;31mJSONDecodeError\u001b[0m: Expecting value: line 1 column 1 (char 0)"
     ]
    }
   ],
   "source": [
    "co = climate.ClimateAgent()\n",
    "station_id = co.get_station_id(\"Norfolk, Virginia\")\n",
    "co.get_data_for_station_id(station_id=station_id)"
   ]
  },
  {
   "cell_type": "code",
   "execution_count": 3,
   "metadata": {},
   "outputs": [
    {
     "name": "stdout",
     "output_type": "stream",
     "text": [
      "https://api.census.gov/data/2022/ecnbasic\n",
      "('{\\n'\n",
      " '  \"@context\": '\n",
      " '\"https://project-open-data.cio.gov/v1.1/schema/catalog.jsonld\",\\n'\n",
      " '  \"@id\": \"http://api.census.gov/data/2022/ecnbasic.json\",\\n'\n",
      " '  \"@type\": \"dcat:Catalog\",\\n'\n",
      " '  \"conformsTo\": \"https://project-open-data.cio.gov/v1.1/schema\",\\n'\n",
      " '  \"describedBy\": '\n",
      " '\"https://project-open-data.cio.gov/v1.1/schema/catalog.json\",\\n'\n",
      " '  \"dataset\": [\\n'\n",
      " '    {\\n'\n",
      " '      \"c_vintage\": 2022,\\n'\n",
      " '      \"c_dataset\": [\\n'\n",
      " '        \"ecnbasic\"\\n'\n",
      " '      ],\\n'\n",
      " '      \"c_geographyLink\": '\n",
      " '\"http://api.census.gov/data/2022/ecnbasic/geography.json\",\\n'\n",
      " '      \"c_variablesLink\": '\n",
      " '\"http://api.census.gov/data/2022/ecnbasic/variables.json\",\\n'\n",
      " '      \"c_tagsLink\": \"http://api.census.gov/data/2022/ecnbasic/tags.json\",\\n'\n",
      " '      \"c_examplesLink\": '\n",
      " '\"http://api.census.gov/data/2022/ecnbasic/examples.json\",\\n'\n",
      " '      \"c_groupsLink\": '\n",
      " '\"http://api.census.gov/data/2022/ecnbasic/groups.json\",\\n'\n",
      " '      \"c_sorts_url\": \"http://api.census.gov/data/2022/ecnbasic/sorts.json\",\\n'\n",
      " '      \"c_documentationLink\": \"https://www.census.gov/developer/\",\\n'\n",
      " '      \"c_isAggregate\": true,\\n'\n",
      " '      \"c_isAvailable\": true,\\n'\n",
      " '      \"@type\": \"dcat:Dataset\",\\n'\n",
      " '      \"title\": \"Economic Census: Core Statistics: Summary Statistics for the '\n",
      " 'U.S., States, and Selected Geographies: 2022\",\\n'\n",
      " '      \"accessLevel\": \"public\",\\n'\n",
      " '      \"bureauCode\": [\\n'\n",
      " '        \"006:07\"\\n'\n",
      " '      ],\\n'\n",
      " '      \"description\": \"This dataset provides industry statistics on number of '\n",
      " 'firms; number of establishments; number of employees; payroll; and sales, '\n",
      " 'value of shipments, or revenue by geographic area for establishments and '\n",
      " 'firms with paid employees. Data are shown on a 2022 NAICS basis.\\u202f The '\n",
      " 'statistics, NAICS levels, and the geographic areas covered vary by '\n",
      " 'sector.\",\\n'\n",
      " '      \"distribution\": [\\n'\n",
      " '        {\\n'\n",
      " '          \"@type\": \"dcat:Distribution\",\\n'\n",
      " '          \"accessURL\": \"http://api.census.gov/data/2022/ecnbasic\",\\n'\n",
      " '          \"description\": \"API endpoint\",\\n'\n",
      " '          \"format\": \"API\",\\n'\n",
      " '          \"mediaType\": \"application/json\",\\n'\n",
      " '          \"title\": \"API endpoint\"\\n'\n",
      " '        }\\n'\n",
      " '      ],\\n'\n",
      " '      \"contactPoint\": {\\n'\n",
      " '        \"fn\": \"Data User Outreach\",\\n'\n",
      " '        \"hasEmail\": \"mailto:Ewd.outreach@census.gov\"\\n'\n",
      " '      },\\n'\n",
      " '      \"identifier\": \"https://api.census.gov/data/id/ECNBASIC2022\",\\n'\n",
      " '      \"keyword\": [\\n'\n",
      " '        \"census\"\\n'\n",
      " '      ],\\n'\n",
      " '      \"license\": \"https://creativecommons.org/publicdomain/zero/1.0/\",\\n'\n",
      " '      \"modified\": \"2023-10-24 13:36:24.0\",\\n'\n",
      " '      \"programCode\": [\\n'\n",
      " '        \"006:007\"\\n'\n",
      " '      ],\\n'\n",
      " '      \"references\": [\\n'\n",
      " '        \"https://www.census.gov/developers/\"\\n'\n",
      " '      ],\\n'\n",
      " '      \"spatial\": \"United States\",\\n'\n",
      " '      \"temporal\": \"2022/2022\",\\n'\n",
      " '      \"publisher\": {\\n'\n",
      " '        \"@type\": \"org:Organization\",\\n'\n",
      " '        \"name\": \"U.S. Census Bureau\",\\n'\n",
      " '        \"subOrganizationOf\": {\\n'\n",
      " '             \"@type\": \"org:Organization\",\\n'\n",
      " '             \"name\": \"U.S. Department Of Commerce\",\\n'\n",
      " '             \"subOrganizationOf\": {\\n'\n",
      " '                 \"@type\": \"org:Organization\",\\n'\n",
      " '                 \"name\": \"U.S. Government\"\\n'\n",
      " '             }\\n'\n",
      " '         }\\n'\n",
      " '      }\\n'\n",
      " '    }\\n'\n",
      " '  ]\\n'\n",
      " '}')\n"
     ]
    }
   ],
   "source": [
    "ca = census.CensusData()\n",
    "\n",
    "pprint(ca.access_economic_data(\"Norfolk\", [2022]))"
   ]
  },
  {
   "cell_type": "code",
   "execution_count": 4,
   "metadata": {},
   "outputs": [
    {
     "name": "stdout",
     "output_type": "stream",
     "text": [
      "<!DOCTYPE HTML PUBLIC \"-//IETF//DTD HTML 2.0//EN\">\n",
      "<html><head>\n",
      "<title>502 Proxy Error</title>\n",
      "</head><body>\n",
      "<h1>Proxy Error</h1>\n",
      "<p>The proxy server received an invalid\n",
      "response from an upstream server.<br />\n",
      "The proxy server could not handle the request<p>Reason: <strong>Error reading from remote server</strong></p></p>\n",
      "<p>Additionally, a 502 Bad Gateway\n",
      "error was encountered while trying to use an ErrorDocument to handle the request.</p>\n",
      "</body></html>\n",
      "\n"
     ]
    }
   ],
   "source": [
    "base = \"https://www.ncei.noaa.gov/access/services/search/v1/data\"\n",
    "lat, long = co.get_lat_long(\"Norfolk Virginia\")\n",
    "bb = co.get_bounding_box(lat, long, buffer=10)\n",
    "headers = co.make_headers()\n",
    "bounding_box = f\"{bb[0]},{bb[1]},{bb[2]},{bb[3]}\"\n",
    "params = {\"dataset\":\"global-summary-of-the-month\",\n",
    "        \"bbox\": bounding_box,\n",
    "        \"dataTypes\": \"TMIN,TMAX,PRCP\",\n",
    "        \"startDate\": \"2022-01-01\",\n",
    "        \"endDate\": \"2022-02-01\"}\n",
    "r = requests.get(base, params=params, headers=headers)\n",
    "print(r.text)"
   ]
  },
  {
   "cell_type": "code",
   "execution_count": null,
   "metadata": {},
   "outputs": [],
   "source": []
  }
 ],
 "metadata": {
  "kernelspec": {
   "display_name": ".venv",
   "language": "python",
   "name": "python3"
  },
  "language_info": {
   "codemirror_mode": {
    "name": "ipython",
    "version": 3
   },
   "file_extension": ".py",
   "mimetype": "text/x-python",
   "name": "python",
   "nbconvert_exporter": "python",
   "pygments_lexer": "ipython3",
   "version": "3.12.5"
  }
 },
 "nbformat": 4,
 "nbformat_minor": 2
}
