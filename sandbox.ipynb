{
 "cells": [
  {
   "cell_type": "code",
   "execution_count": 1,
   "metadata": {},
   "outputs": [],
   "source": [
    "import requests\n",
    "import json\n",
    "import os\n",
    "import climate\n",
    "from pprint import pprint\n",
    "import pandas as pd\n",
    "import numpy as np\n",
    "import io\n",
    "import census\n",
    "from pprint import pprint"
   ]
  },
  {
   "cell_type": "code",
   "execution_count": 2,
   "metadata": {},
   "outputs": [],
   "source": [
    "ca = census.CensusData()\n",
    "co = climate.ClimateAgent()\n",
    "pgpw = os.getenv(\"POSTGRES_PASSWORD\") \n",
    "server, engine = ca.connect_to_postgres(password=pgpw) #need to add create=True if\n"
   ]
  },
  {
   "cell_type": "code",
   "execution_count": null,
   "metadata": {},
   "outputs": [],
   "source": [
    "# ca.upload_city_data_to_postgres(tmp_df, engine=engine)\n",
    "# # CITY YEAR will be the primary key(s)\n",
    "# # all other data will follow after that"
   ]
  },
  {
   "cell_type": "code",
   "execution_count": null,
   "metadata": {},
   "outputs": [],
   "source": [
    "# # to delete a table,,, weird syntax\n",
    "# from sqlalchemy import MetaData, Table\n",
    "# metadata = MetaData()\n",
    "\n",
    "# # Reflect the existing table\n",
    "# table_name = 'city_data'\n",
    "# table = Table(table_name, metadata, autoload_with=engine)\n",
    "\n",
    "# # Drop the table\n",
    "# table.drop(engine)"
   ]
  },
  {
   "cell_type": "code",
   "execution_count": null,
   "metadata": {},
   "outputs": [],
   "source": [
    "# query = \"\"\"\n",
    "# SELECT * \n",
    "# FROM cities\n",
    "# \"\"\"\n",
    "\n",
    "# counties = list(pd.read_sql_query(query, con=engine)['county'])\n",
    "\n",
    "# final_df = pd.DataFrame()\n",
    "# for county in counties:\n",
    "#     print(\"Working on: \", county)\n",
    "#     city_data_df = ca.get_data_for_city(city=None, years=(2009,2024), county=county)\n",
    "#     final_df = pd.concat([final_df, city_data_df], ignore_index=True)\n"
   ]
  },
  {
   "cell_type": "code",
   "execution_count": null,
   "metadata": {},
   "outputs": [],
   "source": [
    "# ca.upload_city_data_to_postgres(final_df, engine=engine)"
   ]
  },
  {
   "cell_type": "code",
   "execution_count": null,
   "metadata": {},
   "outputs": [],
   "source": [
    "# # existing_data = pd.read_sql('SELECT city, year FROM city_data', engine)\n",
    "# # new_rows = final_df[~final_df[['city', 'year']].isin(existing_data[['city', 'year']])]\n",
    "# # final_df[['city', 'year']].isin(existing_data[['city', 'year']])\n",
    "# query = \"\"\"\n",
    "# SELECT * FROM city_data\n",
    "# \"\"\"\n",
    "\n",
    "# check_df = pd.read_sql_query(query, con=engine)\n",
    "# check_df\n",
    "# #rows_to_upload = final_df[]\n",
    "# # final_df.to_sql(\"city_data\", con=engine, index=False, chunksize=1000, if_exists=\"replace\")"
   ]
  },
  {
   "cell_type": "code",
   "execution_count": null,
   "metadata": {},
   "outputs": [],
   "source": [
    "\n",
    "# query = \"\"\"\n",
    "# SELECT * FROM city_data\n",
    "# \"\"\"\n",
    "\n",
    "# df = pd.read_sql_query(query, con=engine)\n",
    "# df"
   ]
  },
  {
   "cell_type": "code",
   "execution_count": null,
   "metadata": {},
   "outputs": [],
   "source": [
    "# y = \"2009\"\n",
    "# url = \"https://api.census.gov/data/\" + f\"{y}/acs/acs1/profile\"\n",
    "\n",
    "# get_metrics = \"\".join(x + \",\" for x in ca.list_of_metrics.keys())\n",
    "# get_metrics = get_metrics[:len(get_metrics)-1] # get rid of the last comma that I appended\n",
    "\n",
    "# params = {\"key\": os.getenv(\"CENSUS_KEY\"),\n",
    "#                     \"get\": get_metrics,\n",
    "#                     \"for\": f\"county:810\",\n",
    "#                     \"in\": \"state:51\"}\n",
    "\n",
    "# r = requests.get(url=url, params=params)\n",
    "# values = list(json.loads(r.text))\n",
    "# pd.DataFrame(values[1:], columns=values[0])"
   ]
  },
  {
   "cell_type": "code",
   "execution_count": null,
   "metadata": {},
   "outputs": [],
   "source": [
    "# ca.get_all_cities()"
   ]
  },
  {
   "cell_type": "code",
   "execution_count": null,
   "metadata": {},
   "outputs": [],
   "source": [
    "# from html.parser import HTMLParser\n",
    "# #census_url = \"https://api.census.gov/data\"\n",
    "# year = \"2023\"\n",
    "# dataset = \"acs\"\n",
    "# url = f\"https://api.census.gov/data/{year}/acs/acs1/profile\"\n",
    "\n",
    "\n",
    "# \"\"\"\n",
    "#     # https://api.census.gov/data/2022/acs/acs1/profile/variables.html \n",
    "\n",
    "#     # ones worth using:\n",
    "\n",
    "#     # economic\n",
    "#     DP03_0093E = estimate for earnings for first year male workers \n",
    "#     DP03_0094E = estimate for earnings for first year female workers\n",
    "#     DP03_0119PE = estimated percentage of people below the poverty line\n",
    "#     DP04_0001E = estimated housing units\n",
    "#     DP02_0002E = estimated number of married housing units\n",
    "#     DP02_0016E = estimated average household size\n",
    "\n",
    "#     DP03_0052E: estimated total households less than $10,000 income\n",
    "#     DP03_0053E: estimated total households between $10-15k\n",
    "#     DP03_0054E: estimated total households between $15-25k\n",
    "#     DP03_0055E: 25-35k\n",
    "#     DP03_0056E: 35-45k\n",
    "#     DP03_0057E: 50-75k\n",
    "#     DP03_0058E: 75-100k\n",
    "#     DP03_0059E: 100-150k\n",
    "#     DP03_0060E: 150-200k\n",
    "#     DP03_0061E: > 200k\n",
    "\n",
    "#     # relationships\n",
    "#     DP02_0026E = men over 15 y/o who have not married\n",
    "#     DP02_0028E = men over 15 y/o who married, but separated\n",
    "#     DP02_0030E = men over 15 y/o who are divorced\n",
    "    \n",
    "#     # education (currently)\n",
    "#     DP02_0054E = estimated population of kids in nursery school/preschool\n",
    "#     DP02_0055E = estimated population of kids in kindergarten\n",
    "#     DP02_0056E = estimated population of kids in grades 1-8\n",
    "#     DP02_0057E = estimated population of kids in grades 9-12\n",
    "#     DP02_0058E = estimated population of kids in college/grad school\n",
    "\n",
    "#     # education attainment\n",
    "#     DP02_0060PE = estimated population of 25 years and older who have less than 9th grade education\n",
    "#     DP02_0061PE = estimated population with some high school education\n",
    "#     DP02_0062PE = estimated population with high school diploma\n",
    "#     DP02_0063PE = estimated population with some college, no diploma\n",
    "#     DP02_0064PE = estimated population with associates degrees\n",
    "#     DP02_0065PE  = estimated population with bachelor's degree\n",
    "#     DP02_0066PE = estimated population with graduate degrees\n",
    "\n",
    "#     # unemployement rate\n",
    "#     DP03_0009PE\n",
    "\n",
    "#     # industry\n",
    "#     DP03_0033PE: agriculture, forestry, fishing, hunting, mining\n",
    "#     DP03_0034PE: construction\n",
    "#     DP03_0035PE: manufacturing\n",
    "#     DP03_0036PE: wholesale trade\n",
    "#     DP03_0037PE: retail trade\n",
    "#     DP03_0038PE: transportation, warehousing, utilities\n",
    "#     DP03_0039PE: information\n",
    "#     DP03_0040PE: finance, insurance, real estate, rental, leasing\n",
    "#     DP03_0041PE: professional, scientific, administrative, waste management\n",
    "#     DP03_0042PE: educational services/health care/ social assistance\n",
    "#     DP03_0043PE: arts, entertainment, recreation, accommodation, food services\n",
    "#     DP03_0045PE: public administration\n",
    "\n",
    "# \"\"\"\n",
    "# variables = \"NAME,DP02_0060PE,DP02_0061PE,DP02_0062PE,DP02_0063PE,DP02_0064PE,DP02_0065PE,DP02_0066PE\"\n",
    "# print(url)\n",
    "# params = {\"key\": os.getenv(\"CENSUS_KEY\"),\n",
    "#            \"for\": \"county:*\", \n",
    "#            \"get\": variables,\n",
    "#            \"in\": \"state:51\"\n",
    "#           }\n",
    "# r = requests.get(url, params=params)\n",
    "# values = list(json.loads(r.text))\n",
    "\n",
    "# df = pd.DataFrame(values[1:], columns=values[0])\n",
    "# # df = df.rename(columns={\n",
    "# #     \"DP02_0060PE\":\"<9th\",\n",
    "# #     \"DP02_0061PE\": \"some high school\",\n",
    "# #     \"DP02_0062PE\": \"high school\",\n",
    "# #     \"DP02_0063PE\": \"some college\",\n",
    "# #     \"DP02_0064PE\": \"associates\",\n",
    "# #     \"DP02_0065PE\": \"bachelors\",\n",
    "# #     \"DP02_0066PE\": \"graduate\"\n",
    "# # })\n",
    "# df"
   ]
  },
  {
   "cell_type": "code",
   "execution_count": null,
   "metadata": {},
   "outputs": [],
   "source": [
    "co = climate.ClimateAgent()\n",
    "# let's test for all of the cities that we have data on for the Census\n",
    "# so there will be around 30 \"cities\" (counties, really) for Virginia that we will have data on\n",
    "cities = ca.get_all_cities()\n",
    "cities = list(cities['city'])\n",
    "for c in cities:\n",
    "    print(\"Working on:\" c)\n",
    "    station_id = co.get_station_id(c)\n",
    "    climate_df = co.get_data_for_station_id(station_id=station_id, start_date=\"2022-01-01\", end_date=\"2022-12-31\")"
   ]
  },
  {
   "cell_type": "code",
   "execution_count": null,
   "metadata": {},
   "outputs": [],
   "source": [
    "station_id = co.get_station_id(\"Norfolk, Virginia\")\n",
    "climate_df = co.get_data_for_station_id(station_id=station_id, start_date=\"1930-01-01\", end_date=\"2022-12-31\")"
   ]
  },
  {
   "cell_type": "code",
   "execution_count": null,
   "metadata": {},
   "outputs": [],
   "source": [
    "co.upload_data_to_postgres(climate_data=climate_df, engine=engine)"
   ]
  },
  {
   "cell_type": "code",
   "execution_count": null,
   "metadata": {},
   "outputs": [],
   "source": [
    "query = \"\"\"\n",
    "SELECT *\n",
    "FROM climate_data\n",
    "\"\"\"\n",
    "\n",
    "pd.read_sql_query(query, con=engine)"
   ]
  },
  {
   "cell_type": "code",
   "execution_count": 3,
   "metadata": {},
   "outputs": [
    {
     "name": "stdout",
     "output_type": "stream",
     "text": [
      "Working on: albemarle, virginia\n",
      "Working on: arlington, virginia\n",
      "Working on: augusta, virginia\n",
      "Working on: bedford, virginia\n",
      "Working on: chesterfield, virginia\n",
      "Working on: fairfax, virginia\n",
      "Working on: front royal, virginia\n",
      "Working on: frederick, virginia\n",
      "Working on: hanover, virginia\n",
      "Working on: henrico, virginia\n",
      "Working on: williamsburg, virginia\n",
      "Working on: loudoun, virginia\n",
      "Working on: montgomery, virginia\n",
      "Working on: manassas, virginia\n",
      "Working on: roanoke, virginia\n",
      "Working on: rockingham, virginia\n",
      "Working on: fredericksburg, virginia\n",
      "Working on: stafford, virginia\n",
      "Working on: york, virginia\n",
      "Working on: lynchburg, virginia\n",
      "Working on: alexandria, virginia\n",
      "Working on: chesapeake, virginia\n",
      "Working on: hampton, virginia\n",
      "Working on: newportnews, virginia\n",
      "Working on: norfolk, virginia\n",
      "Working on: portsmouth, virginia\n",
      "Working on: richmond, virginia\n",
      "Working on: roanoke, virginia\n",
      "Working on: suffolk, virginia\n",
      "Working on: Virginia Beach, virginia\n"
     ]
    }
   ],
   "source": [
    "cities = ca.get_all_cities()\n",
    "cities = list(cities['city'])\n",
    "\n",
    "city_to_station = {}\n",
    "\n",
    "for c in cities:\n",
    "    if c == \"fauquier\":\n",
    "        c = \"front royal\"\n",
    "    if c == \"jamescity\":\n",
    "        c = \"williamsburg\"\n",
    "    if c == \"princewilliam\":\n",
    "        c = \"manassas\"\n",
    "    if c == \"spotsylvania\":\n",
    "        c = \"fredericksburg\"\n",
    "\n",
    "    if c == \"beach\":\n",
    "        c = \"Virginia Beach\"\n",
    "    c = c + \", virginia\"\n",
    "    print(\"Working on:\", c)\n",
    "    city_id = co.get_station_id(city=c)\n",
    "    city_to_station[c] = city_id"
   ]
  },
  {
   "cell_type": "code",
   "execution_count": 5,
   "metadata": {},
   "outputs": [],
   "source": [
    "col_one = city_to_station.keys()\n",
    "col_two = city_to_station.values()\n",
    "\n",
    "new_dicts = {\"city\": col_one, \"id\": col_two}\n",
    "\n",
    "city_id_df = pd.DataFrame.from_dict(new_dicts)"
   ]
  },
  {
   "cell_type": "code",
   "execution_count": 6,
   "metadata": {},
   "outputs": [
    {
     "name": "stdout",
     "output_type": "stream",
     "text": [
      "Uploading city ids data to the database\n",
      "city_data table does not exist yet, creating now with first command\n",
      "Finished uploading city id data to database\n"
     ]
    }
   ],
   "source": [
    "co.upload_cities_and_ids(city_id_df, engine=engine)"
   ]
  },
  {
   "cell_type": "code",
   "execution_count": 3,
   "metadata": {},
   "outputs": [
    {
     "data": {
      "text/plain": [
       "(38.448, -77.645, 38.158, -77.276)"
      ]
     },
     "execution_count": 3,
     "metadata": {},
     "output_type": "execute_result"
    }
   ],
   "source": [
    "lat, long = co.get_lat_long(location=\"Fredericksburg VA\")\n",
    "bb = co.get_bounding_box(latitude=lat, longitude=long, buffer = 10)\n",
    "bb"
   ]
  },
  {
   "cell_type": "code",
   "execution_count": 4,
   "metadata": {},
   "outputs": [
    {
     "name": "stdout",
     "output_type": "stream",
     "text": [
      "38.448,-77.645,38.158,-77.276\n"
     ]
    },
    {
     "data": {
      "text/plain": [
       "'{\"dataTypes\":{\"docCountError\":0,\"buckets\":[{\"docCount\":2,\"key\":\"CDSD\"},{\"docCount\":2,\"key\":\"CLDD\"},{\"docCount\":2,\"key\":\"DP01\"},{\"docCount\":2,\"key\":\"DP10\"},{\"docCount\":2,\"key\":\"DP1X\"},{\"docCount\":2,\"key\":\"DSND\"},{\"docCount\":2,\"key\":\"DSNW\"},{\"docCount\":2,\"key\":\"DT00\"},{\"docCount\":2,\"key\":\"DT32\"},{\"docCount\":2,\"key\":\"DX32\"},{\"docCount\":2,\"key\":\"DX70\"},{\"docCount\":2,\"key\":\"DX90\"},{\"docCount\":2,\"key\":\"DYFG\"},{\"docCount\":2,\"key\":\"DYNT\"},{\"docCount\":2,\"key\":\"DYSD\"},{\"docCount\":2,\"key\":\"DYSN\"},{\"docCount\":2,\"key\":\"DYTS\"},{\"docCount\":2,\"key\":\"DYXP\"},{\"docCount\":2,\"key\":\"DYXT\"},{\"docCount\":2,\"key\":\"EMNT\"},{\"docCount\":2,\"key\":\"EMSD\"},{\"docCount\":2,\"key\":\"EMSN\"},{\"docCount\":2,\"key\":\"EMXP\"},{\"docCount\":2,\"key\":\"EMXT\"},{\"docCount\":2,\"key\":\"HDSD\"},{\"docCount\":2,\"key\":\"HTDD\"},{\"docCount\":2,\"key\":\"PRCP\"},{\"docCount\":2,\"key\":\"SNOW\"},{\"docCount\":2,\"key\":\"TAVG\"},{\"docCount\":2,\"key\":\"TMAX\"},{\"docCount\":2,\"key\":\"TMIN\"}],\"sumOfOtherDocCounts\":0},\"endDate\":\"2024-10-31T23:59:59\",\"count\":2,\"bounds\":{\"bottomRight\":{\"lat\":38.20219995919615,\"lon\":-77.37470000982285,\"geohash\":\"dqbcr63ryy4p\",\"fragment\":true},\"topLeft\":{\"lat\":38.28749998938292,\"lon\":-77.4507000669837,\"geohash\":\"dqbcvd40ggk3\",\"fragment\":true}},\"totalFileSize\":495994.0,\"stations\":{\"docCountError\":0,\"buckets\":[{\"docCount\":1,\"key\":\"USC00442009\"},{\"docCount\":1,\"key\":\"USC00443204\"}],\"sumOfOtherDocCounts\":0},\"totalCount\":123848,\"results\":[{\"tar\":\"gsom-latest.tar.gz\",\"endDate\":\"2024-09-30T23:59:59\",\"boundingPoints\":[{\"point\":[-77.3747,38.2022]}],\"filePath\":\"/data/global-summary-of-the-month/access/USC00442009.csv\",\"stations\":[{\"dataTypes\":[{\"coverage\":95.26248399487837,\"endDate\":\"2024-02-29T23:59:59\",\"dateRange\":{\"start\":\"1959-01-01T00:00:00\",\"end\":\"2024-02-29T23:59:59\"},\"searchWeight\":1,\"id\":\"EMXP\",\"startDate\":\"1959-01-01T00:00:00\"},{\"coverage\":96.8274111675127,\"endDate\":\"2024-09-30T23:59:59\",\"dateRange\":{\"start\":\"1959-01-01T00:00:00\",\"end\":\"2024-09-30T23:59:59\"},\"searchWeight\":1,\"id\":\"EMXT\",\"startDate\":\"1959-01-01T00:00:00\"},{\"coverage\":83.88324873096447,\"endDate\":\"2024-09-30T23:59:59\",\"dateRange\":{\"start\":\"1959-01-01T00:00:00\",\"end\":\"2024-09-30T23:59:59\"},\"searchWeight\":1,\"id\":\"DYSD\",\"startDate\":\"1959-01-01T00:00:00\"},{\"coverage\":96.41943734015345,\"endDate\":\"2024-03-31T23:59:59\",\"dateRange\":{\"start\":\"1959-01-01T00:00:00\",\"end\":\"2024-03-31T23:59:59\"},\"searchWeight\":1,\"id\":\"PRCP\",\"startDate\":\"1959-01-01T00:00:00\"},{\"coverage\":95.26248399487837,\"endDate\":\"2024-02-29T23:59:59\",\"dateRange\":{\"start\":\"1959-01-01T00:00:00\",\"end\":\"2024-02-29T23:59:59\"},\"searchWeight\":1,\"id\":\"DP10\",\"startDate\":\"1959-01-01T00:00:00\"},{\"coverage\":96.8274111675127,\"endDate\":\"2024-09-30T23:59:59\",\"dateRange\":{\"start\":\"1959-01-01T00:00:00\",\"end\":\"2024-09-30T23:59:59\"},\"searchWeight\":1,\"id\":\"DX90\",\"startDate\":\"1959-01-01T00:00:00\"},{\"coverage\":96.8274111675127,\"endDate\":\"2024-09-30T23:59:59\",\"dateRange\":{\"start\":\"1959-01-01T00:00:00\",\"end\":\"2024-09-30T23:59:59\"},\"searchWeight\":1,\"id\":\"DX70\",\"startDate\":\"1959-01-01T00:00:00\"},{\"coverage\":95.30456852791879,\"endDate\":\"2024-09-30T23:59:59\",\"dateRange\":{\"start\":\"1959-01-01T00:00:00\",\"end\":\"2024-09-30T23:59:59\"},\"searchWeight\":1,\"id\":\"EMNT\",\"startDate\":\"1959-01-01T00:00:00\"},{\"coverage\":95.30456852791879,\"endDate\":\"2024-09-30T23:59:59\",\"dateRange\":{\"start\":\"1959-01-01T00:00:00\",\"end\":\"2024-09-30T23:59:59\"},\"searchWeight\":1,\"id\":\"DT32\",\"startDate\":\"1959-01-01T00:00:00\"},{\"coverage\":85.78680203045685,\"endDate\":\"2024-09-30T23:59:59\",\"dateRange\":{\"start\":\"1959-01-01T00:00:00\",\"end\":\"2024-09-30T23:59:59\"},\"searchWeight\":1,\"id\":\"DYSN\",\"startDate\":\"1959-01-01T00:00:00\"},{\"coverage\":96.8274111675127,\"endDate\":\"2024-09-30T23:59:59\",\"dateRange\":{\"start\":\"1959-01-01T00:00:00\",\"end\":\"2024-09-30T23:59:59\"},\"searchWeight\":1,\"id\":\"DX32\",\"startDate\":\"1959-01-01T00:00:00\"},{\"coverage\":96.8274111675127,\"endDate\":\"2024-09-30T23:59:59\",\"dateRange\":{\"start\":\"1959-01-01T00:00:00\",\"end\":\"2024-09-30T23:59:59\"},\"searchWeight\":1,\"id\":\"TMAX\",\"startDate\":\"1959-01-01T00:00:00\"},{\"coverage\":83.88324873096447,\"endDate\":\"2024-09-30T23:59:59\",\"dateRange\":{\"start\":\"1959-01-01T00:00:00\",\"end\":\"2024-09-30T23:59:59\"},\"searchWeight\":1,\"id\":\"EMSD\",\"startDate\":\"1959-01-01T00:00:00\"},{\"coverage\":85.78680203045685,\"endDate\":\"2024-09-30T23:59:59\",\"dateRange\":{\"start\":\"1959-01-01T00:00:00\",\"end\":\"2024-09-30T23:59:59\"},\"searchWeight\":1,\"id\":\"EMSN\",\"startDate\":\"1959-01-01T00:00:00\"},{\"coverage\":83.88324873096447,\"endDate\":\"2024-09-30T23:59:59\",\"dateRange\":{\"start\":\"1959-01-01T00:00:00\",\"end\":\"2024-09-30T23:59:59\"},\"searchWeight\":1,\"id\":\"DSND\",\"startDate\":\"1959-01-01T00:00:00\"},{\"coverage\":85.78680203045685,\"endDate\":\"2024-09-30T23:59:59\",\"dateRange\":{\"start\":\"1959-01-01T00:00:00\",\"end\":\"2024-09-30T23:59:59\"},\"searchWeight\":1,\"id\":\"SNOW\",\"startDate\":\"1959-01-01T00:00:00\"},{\"coverage\":86.82864450127877,\"endDate\":\"2024-09-30T23:59:59\",\"dateRange\":{\"start\":\"1959-07-01T00:00:00\",\"end\":\"2024-09-30T23:59:59\"},\"searchWeight\":1,\"id\":\"HDSD\",\"startDate\":\"1959-07-01T00:00:00\"},{\"coverage\":95.26248399487837,\"endDate\":\"2024-02-29T23:59:59\",\"dateRange\":{\"start\":\"1959-01-01T00:00:00\",\"end\":\"2024-02-29T23:59:59\"},\"searchWeight\":1,\"id\":\"DP01\",\"startDate\":\"1959-01-01T00:00:00\"},{\"coverage\":95.30456852791879,\"endDate\":\"2024-09-30T23:59:59\",\"dateRange\":{\"start\":\"1959-01-01T00:00:00\",\"end\":\"2024-09-30T23:59:59\"},\"searchWeight\":1,\"id\":\"HTDD\",\"startDate\":\"1959-01-01T00:00:00\"},{\"coverage\":83.75634517766497,\"endDate\":\"2024-09-30T23:59:59\",\"dateRange\":{\"start\":\"1959-01-01T00:00:00\",\"end\":\"2024-09-30T23:59:59\"},\"searchWeight\":1,\"id\":\"CDSD\",\"startDate\":\"1959-01-01T00:00:00\"},{\"coverage\":95.26248399487837,\"endDate\":\"2024-02-29T23:59:59\",\"dateRange\":{\"start\":\"1959-01-01T00:00:00\",\"end\":\"2024-02-29T23:59:59\"},\"searchWeight\":1,\"id\":\"DYXP\",\"startDate\":\"1959-01-01T00:00:00\"},{\"coverage\":95.30456852791879,\"endDate\":\"2024-09-30T23:59:59\",\"dateRange\":{\"start\":\"1959-01-01T00:00:00\",\"end\":\"2024-09-30T23:59:59\"},\"searchWeight\":1,\"id\":\"DT00\",\"startDate\":\"1959-01-01T00:00:00\"},{\"coverage\":96.8274111675127,\"endDate\":\"2024-09-30T23:59:59\",\"dateRange\":{\"start\":\"1959-01-01T00:00:00\",\"end\":\"2024-09-30T23:59:59\"},\"searchWeight\":1,\"id\":\"DYXT\",\"startDate\":\"1959-01-01T00:00:00\"},{\"coverage\":95.26248399487837,\"endDate\":\"2024-02-29T23:59:59\",\"dateRange\":{\"start\":\"1959-01-01T00:00:00\",\"end\":\"2024-02-29T23:59:59\"},\"searchWeight\":1,\"id\":\"DP1X\",\"startDate\":\"1959-01-01T00:00:00\"},{\"coverage\":45.774647887323944,\"endDate\":\"2006-07-31T23:59:59\",\"dateRange\":{\"start\":\"1959-03-01T00:00:00\",\"end\":\"2006-07-31T23:59:59\"},\"searchWeight\":1,\"id\":\"DYTS\",\"startDate\":\"1959-03-01T00:00:00\"},{\"coverage\":95.30456852791879,\"endDate\":\"2024-09-30T23:59:59\",\"dateRange\":{\"start\":\"1959-01-01T00:00:00\",\"end\":\"2024-09-30T23:59:59\"},\"searchWeight\":1,\"id\":\"CLDD\",\"startDate\":\"1959-01-01T00:00:00\"},{\"coverage\":31.501340482573724,\"endDate\":\"2021-03-31T23:59:59\",\"dateRange\":{\"start\":\"1959-01-01T00:00:00\",\"end\":\"2021-03-31T23:59:59\"},\"searchWeight\":1,\"id\":\"DYFG\",\"startDate\":\"1959-01-01T00:00:00\"},{\"coverage\":85.78680203045685,\"endDate\":\"2024-09-30T23:59:59\",\"dateRange\":{\"start\":\"1959-01-01T00:00:00\",\"end\":\"2024-09-30T23:59:59\"},\"searchWeight\":1,\"id\":\"DSNW\",\"startDate\":\"1959-01-01T00:00:00\"},{\"coverage\":95.30456852791879,\"endDate\":\"2024-09-30T23:59:59\",\"dateRange\":{\"start\":\"1959-01-01T00:00:00\",\"end\":\"2024-09-30T23:59:59\"},\"searchWeight\":1,\"id\":\"TAVG\",\"startDate\":\"1959-01-01T00:00:00\"},{\"coverage\":95.30456852791879,\"endDate\":\"2024-09-30T23:59:59\",\"dateRange\":{\"start\":\"1959-01-01T00:00:00\",\"end\":\"2024-09-30T23:59:59\"},\"searchWeight\":1,\"id\":\"TMIN\",\"startDate\":\"1959-01-01T00:00:00\"},{\"coverage\":95.30456852791879,\"endDate\":\"2024-09-30T23:59:59\",\"dateRange\":{\"start\":\"1959-01-01T00:00:00\",\"end\":\"2024-09-30T23:59:59\"},\"searchWeight\":1,\"id\":\"DYNT\",\"startDate\":\"1959-01-01T00:00:00\"}],\"name\":\"CORBIN, VA US\",\"id\":\"USC00442009\"}],\"dataTypes\":[{\"dateRange\":{\"start\":null,\"end\":null},\"searchWeight\":1,\"name\":\"Extreme maximum precipitation\",\"id\":\"EMXP\"},{\"dateRange\":{\"start\":null,\"end\":null},\"searchWeight\":1,\"name\":\"Extreme maximum temperature\",\"id\":\"EMXT\"},{\"dateRange\":{\"start\":null,\"end\":null},\"searchWeight\":1,\"name\":\"Day of month of highest daily snow depth\",\"id\":\"DYSD\"},{\"dateRange\":{\"start\":null,\"end\":null},\"searchWeight\":1,\"name\":\"Precipitation\",\"id\":\"PRCP\"},{\"dateRange\":{\"start\":null,\"end\":null},\"searchWeight\":1,\"name\":\"Number days with greater than 0.10 inch (2.54mm) of precipitation\",\"id\":\"DP10\"},{\"dateRange\":{\"start\":null,\"end\":null},\"searchWeight\":1,\"name\":\"Number days with maximum temperature greater than 90F (32.2C)\",\"id\":\"DX90\"},{\"dateRange\":{\"start\":null,\"end\":null},\"searchWeight\":1,\"name\":\"Number days with maximum temperature greater than 70F (21.1C)\",\"id\":\"DX70\"},{\"dateRange\":{\"start\":null,\"end\":null},\"searchWeight\":1,\"name\":\"Extreme minimum temperature\",\"id\":\"EMNT\"},{\"dateRange\":{\"start\":null,\"end\":null},\"searchWeight\":1,\"name\":\"Number days with minimum temperature less than 32F (0C)\",\"id\":\"DT32\"},{\"dateRange\":{\"start\":null,\"end\":null},\"searchWeight\":1,\"name\":\"Day of month of highest daily snowfall\",\"id\":\"DYSN\"},{\"dateRange\":{\"start\":null,\"end\":null},\"searchWeight\":1,\"name\":\"Number days with maximum temperature less than 32F (0C)\",\"id\":\"DX32\"},{\"dateRange\":{\"start\":null,\"end\":null},\"searchWeight\":1,\"name\":\"Average Maximum Temperature\",\"id\":\"TMAX\"},{\"dateRange\":{\"start\":null,\"end\":null},\"searchWeight\":1,\"name\":\"Extreme maximum snow depth\",\"id\":\"EMSD\"},{\"dateRange\":{\"start\":null,\"end\":null},\"searchWeight\":1,\"name\":\"Extreme maximum snowfall\",\"id\":\"EMSN\"},{\"dateRange\":{\"start\":null,\"end\":null},\"searchWeight\":1,\"name\":\"Number days with greater than 1.0 inch (25.4mm) of snow depth\",\"id\":\"DSND\"},{\"dateRange\":{\"start\":null,\"end\":null},\"searchWeight\":1,\"name\":\"Total Monthly Snowfall\",\"id\":\"SNOW\"},{\"dateRange\":{\"start\":null,\"end\":null},\"searchWeight\":1,\"name\":\"Heating Degree Days Season to TIME\",\"id\":\"HDSD\"},{\"dateRange\":{\"start\":null,\"end\":null},\"searchWeight\":1,\"name\":\"Number days with greater than 0.01 inch (0.25mm) of precipitation\",\"id\":\"DP01\"},{\"dateRange\":{\"start\":null,\"end\":null},\"searchWeight\":1,\"name\":\"Heating Degree Days\",\"id\":\"HTDD\"},{\"dateRange\":{\"start\":null,\"end\":null},\"searchWeight\":1,\"name\":\"Cooling Degree Days Season to Date\",\"id\":\"CDSD\"},{\"dateRange\":{\"start\":null,\"end\":null},\"searchWeight\":1,\"name\":\"Day of month of highest daily total of precipitation\",\"id\":\"DYXP\"},{\"dateRange\":{\"start\":null,\"end\":null},\"searchWeight\":1,\"name\":\"Number days with minimum temperature less than 0F (-17.6C)\",\"id\":\"DT00\"},{\"dateRange\":{\"start\":null,\"end\":null},\"searchWeight\":1,\"name\":\"Day of month with extreme maximum temperature\",\"id\":\"DYXT\"},{\"dateRange\":{\"start\":null,\"end\":null},\"searchWeight\":1,\"name\":\"Number days with greater than 1.00 inch (25.4mm) of precipitation\",\"id\":\"DP1X\"},{\"dateRange\":{\"start\":null,\"end\":null},\"searchWeight\":1,\"name\":\"Number days with thunderstorms\",\"id\":\"DYTS\"},{\"dateRange\":{\"start\":null,\"end\":null},\"searchWeight\":1,\"name\":\"Cooling Degree Days\",\"id\":\"CLDD\"},{\"dateRange\":{\"start\":null,\"end\":null},\"searchWeight\":1,\"name\":\"Number days with fog\",\"id\":\"DYFG\"},{\"dateRange\":{\"start\":null,\"end\":null},\"searchWeight\":1,\"name\":\"Number of days with greater than or equal to 1.0 inch (25.4mm) of snowfall\",\"id\":\"DSNW\"},{\"dateRange\":{\"start\":null,\"end\":null},\"searchWeight\":1,\"name\":\"Average Average Temperature\",\"id\":\"TAVG\"},{\"dateRange\":{\"start\":null,\"end\":null},\"searchWeight\":1,\"name\":\"Average Minimum Temperature\",\"id\":\"TMIN\"},{\"dateRange\":{\"start\":null,\"end\":null},\"searchWeight\":1,\"name\":\"Day of month of extreme minimum temperature\",\"id\":\"DYNT\"}],\"fileSize\":346188,\"centroid\":{\"point\":[-77.3747,38.2022]},\"name\":\"USC00442009.csv\",\"location\":{\"coordinates\":[-77.3747,38.2022],\"type\":\"point\"},\"id\":\"gsom-latest.tar.gz:USC00442009.csv\",\"dataTypesCount\":31,\"startDate\":\"1959-01-01T00:00:00\"},{\"tar\":\"gsom-latest.tar.gz\",\"endDate\":\"2024-10-31T23:59:59\",\"boundingPoints\":[{\"point\":[-77.4507,38.2875]}],\"filePath\":\"/data/global-summary-of-the-month/access/USC00443204.csv\",\"stations\":[{\"dataTypes\":[{\"coverage\":85.43417366946778,\"endDate\":\"2024-10-31T23:59:59\",\"dateRange\":{\"start\":\"1995-01-01T00:00:00\",\"end\":\"2024-10-31T23:59:59\"},\"searchWeight\":1,\"id\":\"EMXP\",\"startDate\":\"1995-01-01T00:00:00\"},{\"coverage\":87.11484593837535,\"endDate\":\"2024-10-31T23:59:59\",\"dateRange\":{\"start\":\"1995-01-01T00:00:00\",\"end\":\"2024-10-31T23:59:59\"},\"searchWeight\":1,\"id\":\"EMXT\",\"startDate\":\"1995-01-01T00:00:00\"},{\"coverage\":67.41573033707866,\"endDate\":\"2024-09-30T23:59:59\",\"dateRange\":{\"start\":\"1995-01-01T00:00:00\",\"end\":\"2024-09-30T23:59:59\"},\"searchWeight\":1,\"id\":\"DYSD\",\"startDate\":\"1995-01-01T00:00:00\"},{\"coverage\":88.79551820728291,\"endDate\":\"2024-10-31T23:59:59\",\"dateRange\":{\"start\":\"1995-01-01T00:00:00\",\"end\":\"2024-10-31T23:59:59\"},\"searchWeight\":1,\"id\":\"PRCP\",\"startDate\":\"1995-01-01T00:00:00\"},{\"coverage\":85.43417366946778,\"endDate\":\"2024-10-31T23:59:59\",\"dateRange\":{\"start\":\"1995-01-01T00:00:00\",\"end\":\"2024-10-31T23:59:59\"},\"searchWeight\":1,\"id\":\"DP10\",\"startDate\":\"1995-01-01T00:00:00\"},{\"coverage\":87.11484593837535,\"endDate\":\"2024-10-31T23:59:59\",\"dateRange\":{\"start\":\"1995-01-01T00:00:00\",\"end\":\"2024-10-31T23:59:59\"},\"searchWeight\":1,\"id\":\"DX90\",\"startDate\":\"1995-01-01T00:00:00\"},{\"coverage\":87.11484593837535,\"endDate\":\"2024-10-31T23:59:59\",\"dateRange\":{\"start\":\"1995-01-01T00:00:00\",\"end\":\"2024-10-31T23:59:59\"},\"searchWeight\":1,\"id\":\"DX70\",\"startDate\":\"1995-01-01T00:00:00\"},{\"coverage\":85.99439775910365,\"endDate\":\"2024-10-31T23:59:59\",\"dateRange\":{\"start\":\"1995-01-01T00:00:00\",\"end\":\"2024-10-31T23:59:59\"},\"searchWeight\":1,\"id\":\"EMNT\",\"startDate\":\"1995-01-01T00:00:00\"},{\"coverage\":85.99439775910365,\"endDate\":\"2024-10-31T23:59:59\",\"dateRange\":{\"start\":\"1995-01-01T00:00:00\",\"end\":\"2024-10-31T23:59:59\"},\"searchWeight\":1,\"id\":\"DT32\",\"startDate\":\"1995-01-01T00:00:00\"},{\"coverage\":72.47191011235955,\"endDate\":\"2024-09-30T23:59:59\",\"dateRange\":{\"start\":\"1995-01-01T00:00:00\",\"end\":\"2024-09-30T23:59:59\"},\"searchWeight\":1,\"id\":\"DYSN\",\"startDate\":\"1995-01-01T00:00:00\"},{\"coverage\":87.11484593837535,\"endDate\":\"2024-10-31T23:59:59\",\"dateRange\":{\"start\":\"1995-01-01T00:00:00\",\"end\":\"2024-10-31T23:59:59\"},\"searchWeight\":1,\"id\":\"DX32\",\"startDate\":\"1995-01-01T00:00:00\"},{\"coverage\":87.11484593837535,\"endDate\":\"2024-10-31T23:59:59\",\"dateRange\":{\"start\":\"1995-01-01T00:00:00\",\"end\":\"2024-10-31T23:59:59\"},\"searchWeight\":1,\"id\":\"TMAX\",\"startDate\":\"1995-01-01T00:00:00\"},{\"coverage\":67.41573033707866,\"endDate\":\"2024-09-30T23:59:59\",\"dateRange\":{\"start\":\"1995-01-01T00:00:00\",\"end\":\"2024-09-30T23:59:59\"},\"searchWeight\":1,\"id\":\"EMSD\",\"startDate\":\"1995-01-01T00:00:00\"},{\"coverage\":72.47191011235955,\"endDate\":\"2024-09-30T23:59:59\",\"dateRange\":{\"start\":\"1995-01-01T00:00:00\",\"end\":\"2024-09-30T23:59:59\"},\"searchWeight\":1,\"id\":\"EMSN\",\"startDate\":\"1995-01-01T00:00:00\"},{\"coverage\":67.41573033707866,\"endDate\":\"2024-09-30T23:59:59\",\"dateRange\":{\"start\":\"1995-01-01T00:00:00\",\"end\":\"2024-09-30T23:59:59\"},\"searchWeight\":1,\"id\":\"DSND\",\"startDate\":\"1995-01-01T00:00:00\"},{\"coverage\":72.47191011235955,\"endDate\":\"2024-09-30T23:59:59\",\"dateRange\":{\"start\":\"1995-01-01T00:00:00\",\"end\":\"2024-09-30T23:59:59\"},\"searchWeight\":1,\"id\":\"SNOW\",\"startDate\":\"1995-01-01T00:00:00\"},{\"coverage\":56.41025641025641,\"endDate\":\"2024-10-31T23:59:59\",\"dateRange\":{\"start\":\"1995-07-01T00:00:00\",\"end\":\"2024-10-31T23:59:59\"},\"searchWeight\":1,\"id\":\"HDSD\",\"startDate\":\"1995-07-01T00:00:00\"},{\"coverage\":85.43417366946778,\"endDate\":\"2024-10-31T23:59:59\",\"dateRange\":{\"start\":\"1995-01-01T00:00:00\",\"end\":\"2024-10-31T23:59:59\"},\"searchWeight\":1,\"id\":\"DP01\",\"startDate\":\"1995-01-01T00:00:00\"},{\"coverage\":85.43417366946778,\"endDate\":\"2024-10-31T23:59:59\",\"dateRange\":{\"start\":\"1995-01-01T00:00:00\",\"end\":\"2024-10-31T23:59:59\"},\"searchWeight\":1,\"id\":\"HTDD\",\"startDate\":\"1995-01-01T00:00:00\"},{\"coverage\":66.76136363636364,\"endDate\":\"2024-05-31T23:59:59\",\"dateRange\":{\"start\":\"1995-01-01T00:00:00\",\"end\":\"2024-05-31T23:59:59\"},\"searchWeight\":1,\"id\":\"CDSD\",\"startDate\":\"1995-01-01T00:00:00\"},{\"coverage\":85.43417366946778,\"endDate\":\"2024-10-31T23:59:59\",\"dateRange\":{\"start\":\"1995-01-01T00:00:00\",\"end\":\"2024-10-31T23:59:59\"},\"searchWeight\":1,\"id\":\"DYXP\",\"startDate\":\"1995-01-01T00:00:00\"},{\"coverage\":85.99439775910365,\"endDate\":\"2024-10-31T23:59:59\",\"dateRange\":{\"start\":\"1995-01-01T00:00:00\",\"end\":\"2024-10-31T23:59:59\"},\"searchWeight\":1,\"id\":\"DT00\",\"startDate\":\"1995-01-01T00:00:00\"},{\"coverage\":87.11484593837535,\"endDate\":\"2024-10-31T23:59:59\",\"dateRange\":{\"start\":\"1995-01-01T00:00:00\",\"end\":\"2024-10-31T23:59:59\"},\"searchWeight\":1,\"id\":\"DYXT\",\"startDate\":\"1995-01-01T00:00:00\"},{\"coverage\":85.43417366946778,\"endDate\":\"2024-10-31T23:59:59\",\"dateRange\":{\"start\":\"1995-01-01T00:00:00\",\"end\":\"2024-10-31T23:59:59\"},\"searchWeight\":1,\"id\":\"DP1X\",\"startDate\":\"1995-01-01T00:00:00\"},{\"coverage\":100.0,\"endDate\":\"2011-12-31T23:59:59\",\"dateRange\":{\"start\":\"2011-12-01T00:00:00\",\"end\":\"2011-12-31T23:59:59\"},\"searchWeight\":1,\"id\":\"DYTS\",\"startDate\":\"2011-12-01T00:00:00\"},{\"coverage\":85.43417366946778,\"endDate\":\"2024-10-31T23:59:59\",\"dateRange\":{\"start\":\"1995-01-01T00:00:00\",\"end\":\"2024-10-31T23:59:59\"},\"searchWeight\":1,\"id\":\"CLDD\",\"startDate\":\"1995-01-01T00:00:00\"},{\"coverage\":100.0,\"endDate\":\"2012-03-31T23:59:59\",\"dateRange\":{\"start\":\"2011-12-01T00:00:00\",\"end\":\"2012-03-31T23:59:59\"},\"searchWeight\":1,\"id\":\"DYFG\",\"startDate\":\"2011-12-01T00:00:00\"},{\"coverage\":72.47191011235955,\"endDate\":\"2024-09-30T23:59:59\",\"dateRange\":{\"start\":\"1995-01-01T00:00:00\",\"end\":\"2024-09-30T23:59:59\"},\"searchWeight\":1,\"id\":\"DSNW\",\"startDate\":\"1995-01-01T00:00:00\"},{\"coverage\":85.71428571428571,\"endDate\":\"2024-10-31T23:59:59\",\"dateRange\":{\"start\":\"1995-01-01T00:00:00\",\"end\":\"2024-10-31T23:59:59\"},\"searchWeight\":1,\"id\":\"TAVG\",\"startDate\":\"1995-01-01T00:00:00\"},{\"coverage\":85.99439775910365,\"endDate\":\"2024-10-31T23:59:59\",\"dateRange\":{\"start\":\"1995-01-01T00:00:00\",\"end\":\"2024-10-31T23:59:59\"},\"searchWeight\":1,\"id\":\"TMIN\",\"startDate\":\"1995-01-01T00:00:00\"},{\"coverage\":85.99439775910365,\"endDate\":\"2024-10-31T23:59:59\",\"dateRange\":{\"start\":\"1995-01-01T00:00:00\",\"end\":\"2024-10-31T23:59:59\"},\"searchWeight\":1,\"id\":\"DYNT\",\"startDate\":\"1995-01-01T00:00:00\"}],\"name\":\"FREDERICKSBURG SEWAGE, VA US\",\"id\":\"USC00443204\"}],\"dataTypes\":[{\"dateRange\":{\"start\":null,\"end\":null},\"searchWeight\":1,\"name\":\"Extreme maximum precipitation\",\"id\":\"EMXP\"},{\"dateRange\":{\"start\":null,\"end\":null},\"searchWeight\":1,\"name\":\"Extreme maximum temperature\",\"id\":\"EMXT\"},{\"dateRange\":{\"start\":null,\"end\":null},\"searchWeight\":1,\"name\":\"Day of month of highest daily snow depth\",\"id\":\"DYSD\"},{\"dateRange\":{\"start\":null,\"end\":null},\"searchWeight\":1,\"name\":\"Precipitation\",\"id\":\"PRCP\"},{\"dateRange\":{\"start\":null,\"end\":null},\"searchWeight\":1,\"name\":\"Number days with greater than 0.10 inch (2.54mm) of precipitation\",\"id\":\"DP10\"},{\"dateRange\":{\"start\":null,\"end\":null},\"searchWeight\":1,\"name\":\"Number days with maximum temperature greater than 90F (32.2C)\",\"id\":\"DX90\"},{\"dateRange\":{\"start\":null,\"end\":null},\"searchWeight\":1,\"name\":\"Number days with maximum temperature greater than 70F (21.1C)\",\"id\":\"DX70\"},{\"dateRange\":{\"start\":null,\"end\":null},\"searchWeight\":1,\"name\":\"Extreme minimum temperature\",\"id\":\"EMNT\"},{\"dateRange\":{\"start\":null,\"end\":null},\"searchWeight\":1,\"name\":\"Number days with minimum temperature less than 32F (0C)\",\"id\":\"DT32\"},{\"dateRange\":{\"start\":null,\"end\":null},\"searchWeight\":1,\"name\":\"Day of month of highest daily snowfall\",\"id\":\"DYSN\"},{\"dateRange\":{\"start\":null,\"end\":null},\"searchWeight\":1,\"name\":\"Number days with maximum temperature less than 32F (0C)\",\"id\":\"DX32\"},{\"dateRange\":{\"start\":null,\"end\":null},\"searchWeight\":1,\"name\":\"Average Maximum Temperature\",\"id\":\"TMAX\"},{\"dateRange\":{\"start\":null,\"end\":null},\"searchWeight\":1,\"name\":\"Extreme maximum snow depth\",\"id\":\"EMSD\"},{\"dateRange\":{\"start\":null,\"end\":null},\"searchWeight\":1,\"name\":\"Extreme maximum snowfall\",\"id\":\"EMSN\"},{\"dateRange\":{\"start\":null,\"end\":null},\"searchWeight\":1,\"name\":\"Number days with greater than 1.0 inch (25.4mm) of snow depth\",\"id\":\"DSND\"},{\"dateRange\":{\"start\":null,\"end\":null},\"searchWeight\":1,\"name\":\"Total Monthly Snowfall\",\"id\":\"SNOW\"},{\"dateRange\":{\"start\":null,\"end\":null},\"searchWeight\":1,\"name\":\"Heating Degree Days Season to TIME\",\"id\":\"HDSD\"},{\"dateRange\":{\"start\":null,\"end\":null},\"searchWeight\":1,\"name\":\"Number days with greater than 0.01 inch (0.25mm) of precipitation\",\"id\":\"DP01\"},{\"dateRange\":{\"start\":null,\"end\":null},\"searchWeight\":1,\"name\":\"Heating Degree Days\",\"id\":\"HTDD\"},{\"dateRange\":{\"start\":null,\"end\":null},\"searchWeight\":1,\"name\":\"Cooling Degree Days Season to Date\",\"id\":\"CDSD\"},{\"dateRange\":{\"start\":null,\"end\":null},\"searchWeight\":1,\"name\":\"Day of month of highest daily total of precipitation\",\"id\":\"DYXP\"},{\"dateRange\":{\"start\":null,\"end\":null},\"searchWeight\":1,\"name\":\"Number days with minimum temperature less than 0F (-17.6C)\",\"id\":\"DT00\"},{\"dateRange\":{\"start\":null,\"end\":null},\"searchWeight\":1,\"name\":\"Day of month with extreme maximum temperature\",\"id\":\"DYXT\"},{\"dateRange\":{\"start\":null,\"end\":null},\"searchWeight\":1,\"name\":\"Number days with greater than 1.00 inch (25.4mm) of precipitation\",\"id\":\"DP1X\"},{\"dateRange\":{\"start\":null,\"end\":null},\"searchWeight\":1,\"name\":\"Number days with thunderstorms\",\"id\":\"DYTS\"},{\"dateRange\":{\"start\":null,\"end\":null},\"searchWeight\":1,\"name\":\"Cooling Degree Days\",\"id\":\"CLDD\"},{\"dateRange\":{\"start\":null,\"end\":null},\"searchWeight\":1,\"name\":\"Number days with fog\",\"id\":\"DYFG\"},{\"dateRange\":{\"start\":null,\"end\":null},\"searchWeight\":1,\"name\":\"Number of days with greater than or equal to 1.0 inch (25.4mm) of snowfall\",\"id\":\"DSNW\"},{\"dateRange\":{\"start\":null,\"end\":null},\"searchWeight\":1,\"name\":\"Average Average Temperature\",\"id\":\"TAVG\"},{\"dateRange\":{\"start\":null,\"end\":null},\"searchWeight\":1,\"name\":\"Average Minimum Temperature\",\"id\":\"TMIN\"},{\"dateRange\":{\"start\":null,\"end\":null},\"searchWeight\":1,\"name\":\"Day of month of extreme minimum temperature\",\"id\":\"DYNT\"}],\"fileSize\":149806,\"centroid\":{\"point\":[-77.4507,38.2875]},\"name\":\"USC00443204.csv\",\"location\":{\"coordinates\":[-77.4507,38.2875],\"type\":\"point\"},\"id\":\"gsom-latest.tar.gz:USC00443204.csv\",\"dataTypesCount\":31,\"startDate\":\"1995-01-01T00:00:00\"}],\"startDate\":\"1959-01-01T00:00:00\"}'"
      ]
     },
     "execution_count": 4,
     "metadata": {},
     "output_type": "execute_result"
    }
   ],
   "source": [
    "bounding_box = f\"{bb[0]},{bb[1]},{bb[2]},{bb[3]}\"\n",
    "print(bounding_box)\n",
    "params = {\"dataset\":\"global-summary-of-the-month\",\n",
    "                  \"bbox\": bounding_box,\n",
    "                  \"dataTypes\": \"TMIN,TMAX,PRCP\",\n",
    "                  \"startDate\": \"2022-01-01\",\n",
    "                  \"endDate\": \"2022-02-01\"}\n",
    "headers = co.make_headers()\n",
    "base = \"https://www.ncei.noaa.gov/access/services/search/v1/data\"\n",
    "r = requests.get(url=base, params=params, headers=headers)\n",
    "r.text"
   ]
  },
  {
   "cell_type": "code",
   "execution_count": 8,
   "metadata": {},
   "outputs": [
    {
     "data": {
      "text/plain": [
       "{'albemarle, virginia': 'USW00093736',\n",
       " 'arlington, virginia': 'USW00013743',\n",
       " 'augusta, virginia': 'USC00448062',\n",
       " 'bedford, virginia': 'USC00440551',\n",
       " 'chesterfield, virginia': 'USW00000153',\n",
       " 'fairfax, virginia': 'USW00093738',\n",
       " 'front royal, virginia': 'USC00443229',\n",
       " 'frederick, virginia': 'USC00449186',\n",
       " 'hanover, virginia': 'USW00093775',\n",
       " 'henrico, virginia': 'USW00013740',\n",
       " 'williamsburg, virginia': 'USC00449151',\n",
       " 'loudoun, virginia': 'USC00444909',\n",
       " 'montgomery, virginia': 'USC00440766',\n",
       " 'manassas, virginia': 'USC00445204',\n",
       " 'roanoke, virginia': 'USW00013741',\n",
       " 'rockingham, virginia': 'USC00442208',\n",
       " 'fredericksburg, virginia': 'USC00442009',\n",
       " 'stafford, virginia': 'USW00013773',\n",
       " 'york, virginia': 'USW00093741',\n",
       " 'lynchburg, virginia': 'USW00013733',\n",
       " 'alexandria, virginia': 'USW00013743',\n",
       " 'chesapeake, virginia': 'USW00013762',\n",
       " 'hampton, virginia': 'USW00013737',\n",
       " 'newportnews, virginia': 'USW00093741',\n",
       " 'norfolk, virginia': 'USW00013737',\n",
       " 'portsmouth, virginia': 'USW00013737',\n",
       " 'richmond, virginia': 'USW00013740',\n",
       " 'suffolk, virginia': 'USC00448192',\n",
       " 'Virginia Beach, virginia': 'USW00013769'}"
      ]
     },
     "execution_count": 8,
     "metadata": {},
     "output_type": "execute_result"
    }
   ],
   "source": [
    "city_to_station"
   ]
  },
  {
   "cell_type": "code",
   "execution_count": null,
   "metadata": {},
   "outputs": [],
   "source": [
    "final_df = pd.DataFrame()\n",
    "for station in city_to_station.values():\n",
    "    co.get_data_for_station_id(station)"
   ]
  }
 ],
 "metadata": {
  "kernelspec": {
   "display_name": ".venv",
   "language": "python",
   "name": "python3"
  },
  "language_info": {
   "codemirror_mode": {
    "name": "ipython",
    "version": 3
   },
   "file_extension": ".py",
   "mimetype": "text/x-python",
   "name": "python",
   "nbconvert_exporter": "python",
   "pygments_lexer": "ipython3",
   "version": "3.12.5"
  }
 },
 "nbformat": 4,
 "nbformat_minor": 2
}
