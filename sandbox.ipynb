{
 "cells": [
  {
   "cell_type": "code",
   "execution_count": null,
   "metadata": {},
   "outputs": [],
   "source": [
    "import requests\n",
    "import json\n",
    "import os\n",
    "import climate\n",
    "from pprint import pprint\n",
    "import pandas as pd\n",
    "import numpy as np\n",
    "import io\n",
    "import census\n",
    "from pprint import pprint"
   ]
  },
  {
   "cell_type": "code",
   "execution_count": null,
   "metadata": {},
   "outputs": [],
   "source": [
    "ca = census.CensusData()\n",
    "co = climate.ClimateAgent()\n",
    "pgpw = os.getenv(\"POSTGRES_PASSWORD\") \n",
    "server, engine = ca.connect_to_postgres(password=pgpw) #need to add create=True if\n"
   ]
  },
  {
   "cell_type": "code",
   "execution_count": null,
   "metadata": {},
   "outputs": [],
   "source": [
    "query = f\"\"\"\n",
    "SELECT *\n",
    "FROM climate_data\n",
    "WHERE station == '12345'\n",
    "\"\"\"\n",
    "record = pd.read_sql_query(query, con=engine)"
   ]
  },
  {
   "cell_type": "code",
   "execution_count": null,
   "metadata": {},
   "outputs": [],
   "source": []
  },
  {
   "cell_type": "code",
   "execution_count": null,
   "metadata": {},
   "outputs": [],
   "source": [
    "# ca.upload_city_data_to_postgres(tmp_df, engine=engine)\n",
    "# # CITY YEAR will be the primary key(s)\n",
    "# # all other data will follow after that"
   ]
  },
  {
   "cell_type": "code",
   "execution_count": 5,
   "metadata": {},
   "outputs": [],
   "source": [
    "# to delete a table,,, weird syntax\n",
    "from sqlalchemy import MetaData, Table\n",
    "metadata = MetaData()\n",
    "\n",
    "# Reflect the existing table\n",
    "table_name = 'climate_data'\n",
    "table = Table(table_name, metadata, autoload_with=engine)\n",
    "\n",
    "# Drop the table\n",
    "table.drop(engine)"
   ]
  },
  {
   "cell_type": "code",
   "execution_count": null,
   "metadata": {},
   "outputs": [],
   "source": [
    "# query = \"\"\"\n",
    "# SELECT * \n",
    "# FROM cities\n",
    "# \"\"\"\n",
    "\n",
    "# counties = list(pd.read_sql_query(query, con=engine)['county'])\n",
    "\n",
    "# final_df = pd.DataFrame()\n",
    "# for county in counties:\n",
    "#     print(\"Working on: \", county)\n",
    "#     city_data_df = ca.get_data_for_city(city=None, years=(2009,2024), county=county)\n",
    "#     final_df = pd.concat([final_df, city_data_df], ignore_index=True)\n"
   ]
  },
  {
   "cell_type": "code",
   "execution_count": null,
   "metadata": {},
   "outputs": [],
   "source": [
    "# ca.upload_city_data_to_postgres(final_df, engine=engine)"
   ]
  },
  {
   "cell_type": "code",
   "execution_count": null,
   "metadata": {},
   "outputs": [],
   "source": [
    "# # existing_data = pd.read_sql('SELECT city, year FROM city_data', engine)\n",
    "# # new_rows = final_df[~final_df[['city', 'year']].isin(existing_data[['city', 'year']])]\n",
    "# # final_df[['city', 'year']].isin(existing_data[['city', 'year']])\n",
    "# query = \"\"\"\n",
    "# SELECT * FROM city_data\n",
    "# \"\"\"\n",
    "\n",
    "# check_df = pd.read_sql_query(query, con=engine)\n",
    "# check_df\n",
    "# #rows_to_upload = final_df[]\n",
    "# # final_df.to_sql(\"city_data\", con=engine, index=False, chunksize=1000, if_exists=\"replace\")"
   ]
  },
  {
   "cell_type": "code",
   "execution_count": null,
   "metadata": {},
   "outputs": [],
   "source": [
    "\n",
    "# query = \"\"\"\n",
    "# SELECT * FROM city_data\n",
    "# \"\"\"\n",
    "\n",
    "# df = pd.read_sql_query(query, con=engine)\n",
    "# df"
   ]
  },
  {
   "cell_type": "code",
   "execution_count": null,
   "metadata": {},
   "outputs": [],
   "source": [
    "# y = \"2009\"\n",
    "# url = \"https://api.census.gov/data/\" + f\"{y}/acs/acs1/profile\"\n",
    "\n",
    "# get_metrics = \"\".join(x + \",\" for x in ca.list_of_metrics.keys())\n",
    "# get_metrics = get_metrics[:len(get_metrics)-1] # get rid of the last comma that I appended\n",
    "\n",
    "# params = {\"key\": os.getenv(\"CENSUS_KEY\"),\n",
    "#                     \"get\": get_metrics,\n",
    "#                     \"for\": f\"county:810\",\n",
    "#                     \"in\": \"state:51\"}\n",
    "\n",
    "# r = requests.get(url=url, params=params)\n",
    "# values = list(json.loads(r.text))\n",
    "# pd.DataFrame(values[1:], columns=values[0])"
   ]
  },
  {
   "cell_type": "code",
   "execution_count": null,
   "metadata": {},
   "outputs": [],
   "source": [
    "# ca.get_all_cities()"
   ]
  },
  {
   "cell_type": "code",
   "execution_count": null,
   "metadata": {},
   "outputs": [],
   "source": [
    "# from html.parser import HTMLParser\n",
    "# #census_url = \"https://api.census.gov/data\"\n",
    "# year = \"2023\"\n",
    "# dataset = \"acs\"\n",
    "# url = f\"https://api.census.gov/data/{year}/acs/acs1/profile\"\n",
    "\n",
    "\n",
    "# \"\"\"\n",
    "#     # https://api.census.gov/data/2022/acs/acs1/profile/variables.html \n",
    "\n",
    "#     # ones worth using:\n",
    "\n",
    "#     # economic\n",
    "#     DP03_0093E = estimate for earnings for first year male workers \n",
    "#     DP03_0094E = estimate for earnings for first year female workers\n",
    "#     DP03_0119PE = estimated percentage of people below the poverty line\n",
    "#     DP04_0001E = estimated housing units\n",
    "#     DP02_0002E = estimated number of married housing units\n",
    "#     DP02_0016E = estimated average household size\n",
    "\n",
    "#     DP03_0052E: estimated total households less than $10,000 income\n",
    "#     DP03_0053E: estimated total households between $10-15k\n",
    "#     DP03_0054E: estimated total households between $15-25k\n",
    "#     DP03_0055E: 25-35k\n",
    "#     DP03_0056E: 35-45k\n",
    "#     DP03_0057E: 50-75k\n",
    "#     DP03_0058E: 75-100k\n",
    "#     DP03_0059E: 100-150k\n",
    "#     DP03_0060E: 150-200k\n",
    "#     DP03_0061E: > 200k\n",
    "\n",
    "#     # relationships\n",
    "#     DP02_0026E = men over 15 y/o who have not married\n",
    "#     DP02_0028E = men over 15 y/o who married, but separated\n",
    "#     DP02_0030E = men over 15 y/o who are divorced\n",
    "    \n",
    "#     # education (currently)\n",
    "#     DP02_0054E = estimated population of kids in nursery school/preschool\n",
    "#     DP02_0055E = estimated population of kids in kindergarten\n",
    "#     DP02_0056E = estimated population of kids in grades 1-8\n",
    "#     DP02_0057E = estimated population of kids in grades 9-12\n",
    "#     DP02_0058E = estimated population of kids in college/grad school\n",
    "\n",
    "#     # education attainment\n",
    "#     DP02_0060PE = estimated population of 25 years and older who have less than 9th grade education\n",
    "#     DP02_0061PE = estimated population with some high school education\n",
    "#     DP02_0062PE = estimated population with high school diploma\n",
    "#     DP02_0063PE = estimated population with some college, no diploma\n",
    "#     DP02_0064PE = estimated population with associates degrees\n",
    "#     DP02_0065PE  = estimated population with bachelor's degree\n",
    "#     DP02_0066PE = estimated population with graduate degrees\n",
    "\n",
    "#     # unemployement rate\n",
    "#     DP03_0009PE\n",
    "\n",
    "#     # industry\n",
    "#     DP03_0033PE: agriculture, forestry, fishing, hunting, mining\n",
    "#     DP03_0034PE: construction\n",
    "#     DP03_0035PE: manufacturing\n",
    "#     DP03_0036PE: wholesale trade\n",
    "#     DP03_0037PE: retail trade\n",
    "#     DP03_0038PE: transportation, warehousing, utilities\n",
    "#     DP03_0039PE: information\n",
    "#     DP03_0040PE: finance, insurance, real estate, rental, leasing\n",
    "#     DP03_0041PE: professional, scientific, administrative, waste management\n",
    "#     DP03_0042PE: educational services/health care/ social assistance\n",
    "#     DP03_0043PE: arts, entertainment, recreation, accommodation, food services\n",
    "#     DP03_0045PE: public administration\n",
    "\n",
    "# \"\"\"\n",
    "# variables = \"NAME,DP02_0060PE,DP02_0061PE,DP02_0062PE,DP02_0063PE,DP02_0064PE,DP02_0065PE,DP02_0066PE\"\n",
    "# print(url)\n",
    "# params = {\"key\": os.getenv(\"CENSUS_KEY\"),\n",
    "#            \"for\": \"county:*\", \n",
    "#            \"get\": variables,\n",
    "#            \"in\": \"state:51\"\n",
    "#           }\n",
    "# r = requests.get(url, params=params)\n",
    "# values = list(json.loads(r.text))\n",
    "\n",
    "# df = pd.DataFrame(values[1:], columns=values[0])\n",
    "# # df = df.rename(columns={\n",
    "# #     \"DP02_0060PE\":\"<9th\",\n",
    "# #     \"DP02_0061PE\": \"some high school\",\n",
    "# #     \"DP02_0062PE\": \"high school\",\n",
    "# #     \"DP02_0063PE\": \"some college\",\n",
    "# #     \"DP02_0064PE\": \"associates\",\n",
    "# #     \"DP02_0065PE\": \"bachelors\",\n",
    "# #     \"DP02_0066PE\": \"graduate\"\n",
    "# # })\n",
    "# df"
   ]
  },
  {
   "cell_type": "code",
   "execution_count": null,
   "metadata": {},
   "outputs": [],
   "source": [
    "co.upload_data_to_postgres(climate_data=climate_df, engine=engine)"
   ]
  },
  {
   "cell_type": "code",
   "execution_count": null,
   "metadata": {},
   "outputs": [],
   "source": [
    "query = \"\"\"\n",
    "SELECT *\n",
    "FROM climate_data\n",
    "\"\"\"\n",
    "\n",
    "pd.read_sql_query(query, con=engine)"
   ]
  },
  {
   "cell_type": "code",
   "execution_count": null,
   "metadata": {},
   "outputs": [],
   "source": [
    "cities = ca.get_all_cities()\n",
    "cities = list(cities['city'])\n",
    "\n",
    "city_to_station = {}\n",
    "\n",
    "full_df = pd.DataFrame()\n",
    "for c in cities:\n",
    "    if c == \"fauquier\":\n",
    "        c = \"front royal\"\n",
    "    if c == \"jamescity\":\n",
    "        c = \"williamsburg\"\n",
    "    if c == \"princewilliam\":\n",
    "        c = \"manassas\"\n",
    "    if c == \"spotsylvania\":\n",
    "        c = \"fredericksburg\"\n",
    "\n",
    "    if c == \"beach\":\n",
    "        c = \"Virginia Beach\"\n",
    "    c = c + \", virginia\"\n",
    "    print(\"Working on:\", c)\n",
    "    station_id = co.get_station_id(c)\n",
    "    climate_df = co.get_data_for_station_id(station_id=station_id, start_date=\"1940-01-01\", end_date=\"2023-12-31\")\n",
    "    full_df = pd.concat([full_df, climate_df], ignore_index=True)"
   ]
  },
  {
   "cell_type": "code",
   "execution_count": 4,
   "metadata": {},
   "outputs": [],
   "source": [
    "station_id = co.get_station_id(\"virginia beach, virginia\")\n",
    "climate_df = co.get_data_for_station_id(station_id=station_id, start_date=\"1940-01-01\", end_date=\"2023-12-31\")\n",
    "full_df = pd.concat([full_df, climate_df], ignore_index=True)"
   ]
  },
  {
   "cell_type": "code",
   "execution_count": 6,
   "metadata": {},
   "outputs": [
    {
     "name": "stdout",
     "output_type": "stream",
     "text": [
      "Uploading city climate data to the database\n",
      "city_data table does not exist yet, creating now with first command\n",
      "Finished uploading city data to database\n"
     ]
    }
   ],
   "source": [
    "full_df = full_df.rename(columns={\n",
    "    \"STATION\": \"id\",\n",
    "    \"DATE\": \"date\",\n",
    "    \"PRCP\": \"prcp\",\n",
    "    \"TMAX\": \"tmax\",\n",
    "    \"TMIN\": \"tmin\"\n",
    "})\n",
    "\n",
    "\n",
    "co.upload_data_to_postgres(full_df, engine=engine)"
   ]
  },
  {
   "cell_type": "code",
   "execution_count": 10,
   "metadata": {},
   "outputs": [
    {
     "data": {
      "text/html": [
       "<div>\n",
       "<style scoped>\n",
       "    .dataframe tbody tr th:only-of-type {\n",
       "        vertical-align: middle;\n",
       "    }\n",
       "\n",
       "    .dataframe tbody tr th {\n",
       "        vertical-align: top;\n",
       "    }\n",
       "\n",
       "    .dataframe thead th {\n",
       "        text-align: right;\n",
       "    }\n",
       "</style>\n",
       "<table border=\"1\" class=\"dataframe\">\n",
       "  <thead>\n",
       "    <tr style=\"text-align: right;\">\n",
       "      <th></th>\n",
       "      <th>id</th>\n",
       "      <th>date</th>\n",
       "      <th>prcp</th>\n",
       "      <th>tmax</th>\n",
       "      <th>tmin</th>\n",
       "    </tr>\n",
       "  </thead>\n",
       "  <tbody>\n",
       "    <tr>\n",
       "      <th>0</th>\n",
       "      <td>USW00093736</td>\n",
       "      <td>1955-09-14</td>\n",
       "      <td>NaN</td>\n",
       "      <td>77.0</td>\n",
       "      <td>47.0</td>\n",
       "    </tr>\n",
       "    <tr>\n",
       "      <th>1</th>\n",
       "      <td>USW00093736</td>\n",
       "      <td>1955-09-15</td>\n",
       "      <td>NaN</td>\n",
       "      <td>88.0</td>\n",
       "      <td>55.0</td>\n",
       "    </tr>\n",
       "    <tr>\n",
       "      <th>2</th>\n",
       "      <td>USW00093736</td>\n",
       "      <td>1955-09-16</td>\n",
       "      <td>NaN</td>\n",
       "      <td>92.0</td>\n",
       "      <td>64.0</td>\n",
       "    </tr>\n",
       "    <tr>\n",
       "      <th>3</th>\n",
       "      <td>USW00093736</td>\n",
       "      <td>1955-09-17</td>\n",
       "      <td>NaN</td>\n",
       "      <td>80.0</td>\n",
       "      <td>70.0</td>\n",
       "    </tr>\n",
       "    <tr>\n",
       "      <th>4</th>\n",
       "      <td>USW00093736</td>\n",
       "      <td>1955-09-18</td>\n",
       "      <td>NaN</td>\n",
       "      <td>81.0</td>\n",
       "      <td>67.0</td>\n",
       "    </tr>\n",
       "    <tr>\n",
       "      <th>...</th>\n",
       "      <td>...</td>\n",
       "      <td>...</td>\n",
       "      <td>...</td>\n",
       "      <td>...</td>\n",
       "      <td>...</td>\n",
       "    </tr>\n",
       "    <tr>\n",
       "      <th>24879</th>\n",
       "      <td>USW00093736</td>\n",
       "      <td>2023-12-27</td>\n",
       "      <td>0.28</td>\n",
       "      <td>55.0</td>\n",
       "      <td>50.0</td>\n",
       "    </tr>\n",
       "    <tr>\n",
       "      <th>24880</th>\n",
       "      <td>USW00093736</td>\n",
       "      <td>2023-12-28</td>\n",
       "      <td>0.00</td>\n",
       "      <td>61.0</td>\n",
       "      <td>41.0</td>\n",
       "    </tr>\n",
       "    <tr>\n",
       "      <th>24881</th>\n",
       "      <td>USW00093736</td>\n",
       "      <td>2023-12-29</td>\n",
       "      <td>0.02</td>\n",
       "      <td>50.0</td>\n",
       "      <td>36.0</td>\n",
       "    </tr>\n",
       "    <tr>\n",
       "      <th>24882</th>\n",
       "      <td>USW00093736</td>\n",
       "      <td>2023-12-30</td>\n",
       "      <td>0.00</td>\n",
       "      <td>51.0</td>\n",
       "      <td>34.0</td>\n",
       "    </tr>\n",
       "    <tr>\n",
       "      <th>24883</th>\n",
       "      <td>USW00093736</td>\n",
       "      <td>2023-12-31</td>\n",
       "      <td>0.00</td>\n",
       "      <td>52.0</td>\n",
       "      <td>28.0</td>\n",
       "    </tr>\n",
       "  </tbody>\n",
       "</table>\n",
       "<p>24884 rows × 5 columns</p>\n",
       "</div>"
      ],
      "text/plain": [
       "                id        date  prcp  tmax  tmin\n",
       "0      USW00093736  1955-09-14   NaN  77.0  47.0\n",
       "1      USW00093736  1955-09-15   NaN  88.0  55.0\n",
       "2      USW00093736  1955-09-16   NaN  92.0  64.0\n",
       "3      USW00093736  1955-09-17   NaN  80.0  70.0\n",
       "4      USW00093736  1955-09-18   NaN  81.0  67.0\n",
       "...            ...         ...   ...   ...   ...\n",
       "24879  USW00093736  2023-12-27  0.28  55.0  50.0\n",
       "24880  USW00093736  2023-12-28  0.00  61.0  41.0\n",
       "24881  USW00093736  2023-12-29  0.02  50.0  36.0\n",
       "24882  USW00093736  2023-12-30  0.00  51.0  34.0\n",
       "24883  USW00093736  2023-12-31  0.00  52.0  28.0\n",
       "\n",
       "[24884 rows x 5 columns]"
      ]
     },
     "execution_count": 10,
     "metadata": {},
     "output_type": "execute_result"
    }
   ],
   "source": [
    "query = \"\"\"\n",
    "SELECT *\n",
    "FROM climate_data\n",
    "WHERE id='USW00093736'\n",
    "\"\"\"\n",
    "pd.read_sql_query(query, con=engine)"
   ]
  },
  {
   "cell_type": "code",
   "execution_count": null,
   "metadata": {},
   "outputs": [],
   "source": [
    "col_one = city_to_station.keys()\n",
    "col_two = city_to_station.values()\n",
    "\n",
    "new_dicts = {\"city\": col_one, \"id\": col_two}\n",
    "\n",
    "city_id_df = pd.DataFrame.from_dict(new_dicts)"
   ]
  },
  {
   "cell_type": "code",
   "execution_count": null,
   "metadata": {},
   "outputs": [],
   "source": [
    "co.upload_cities_and_ids(city_id_df, engine=engine)"
   ]
  },
  {
   "cell_type": "code",
   "execution_count": null,
   "metadata": {},
   "outputs": [],
   "source": [
    "lat, long = co.get_lat_long(location=\"Fredericksburg VA\")\n",
    "bb = co.get_bounding_box(latitude=lat, longitude=long, buffer = 10)\n",
    "bb"
   ]
  },
  {
   "cell_type": "code",
   "execution_count": null,
   "metadata": {},
   "outputs": [],
   "source": [
    "bounding_box = f\"{bb[0]},{bb[1]},{bb[2]},{bb[3]}\"\n",
    "print(bounding_box)\n",
    "params = {\"dataset\":\"global-summary-of-the-month\",\n",
    "                  \"bbox\": bounding_box,\n",
    "                  \"dataTypes\": \"TMIN,TMAX,PRCP\",\n",
    "                  \"startDate\": \"2022-01-01\",\n",
    "                  \"endDate\": \"2022-02-01\"}\n",
    "headers = co.make_headers()\n",
    "base = \"https://www.ncei.noaa.gov/access/services/search/v1/data\"\n",
    "r = requests.get(url=base, params=params, headers=headers)\n",
    "r.text"
   ]
  },
  {
   "cell_type": "code",
   "execution_count": null,
   "metadata": {},
   "outputs": [],
   "source": [
    "city_to_station"
   ]
  },
  {
   "cell_type": "code",
   "execution_count": null,
   "metadata": {},
   "outputs": [],
   "source": [
    "final_df = pd.DataFrame()\n",
    "for station in city_to_station.values():\n",
    "    co.get_data_for_station_id(station)"
   ]
  },
  {
   "cell_type": "code",
   "execution_count": null,
   "metadata": {},
   "outputs": [],
   "source": []
  },
  {
   "cell_type": "code",
   "execution_count": null,
   "metadata": {},
   "outputs": [],
   "source": []
  }
 ],
 "metadata": {
  "kernelspec": {
   "display_name": ".venv",
   "language": "python",
   "name": "python3"
  },
  "language_info": {
   "codemirror_mode": {
    "name": "ipython",
    "version": 3
   },
   "file_extension": ".py",
   "mimetype": "text/x-python",
   "name": "python",
   "nbconvert_exporter": "python",
   "pygments_lexer": "ipython3",
   "version": "3.12.5"
  }
 },
 "nbformat": 4,
 "nbformat_minor": 2
}
