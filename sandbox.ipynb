{
 "cells": [
  {
   "cell_type": "code",
   "execution_count": 2,
   "metadata": {},
   "outputs": [],
   "source": [
    "import requests\n",
    "import json\n",
    "import os\n",
    "import climate"
   ]
  },
  {
   "cell_type": "code",
   "execution_count": 3,
   "metadata": {},
   "outputs": [],
   "source": [
    "co = climate.ClimateAgent()"
   ]
  },
  {
   "cell_type": "code",
   "execution_count": null,
   "metadata": {},
   "outputs": [],
   "source": [
    "# this API gives weather information for the current day and 7 days prior, I believe\n",
    "base_url = \"https://api.weather.gov/\"\n",
    "\n",
    "params = {} # no API key needed\n",
    "headers = co.make_headers()\n",
    "# \"gridpoints/LWX/\"\n",
    "endpoint = \"points/38.0321,-78.489\"\n",
    "\n",
    "r = json.loads(requests.get(base_url + endpoint, params=params, headers=headers).text)\n"
   ]
  },
  {
   "cell_type": "code",
   "execution_count": 8,
   "metadata": {},
   "outputs": [
    {
     "name": "stdout",
     "output_type": "stream",
     "text": [
      "{\n",
      "  \"@context\": \"https://project-open-data.cio.gov/v1.1/schema/catalog.jsonld\",\n",
      "  \"@id\": \"http://api.census.gov/data/2022/ecnbasic.json\",\n",
      "  \"@type\": \"dcat:Catalog\",\n",
      "  \"conformsTo\": \"https://project-open-data.cio.gov/v1.1/schema\",\n",
      "  \"describedBy\": \"https://project-open-data.cio.gov/v1.1/schema/catalog.json\",\n",
      "  \"dataset\": [\n",
      "    {\n",
      "      \"c_vintage\": 2022,\n",
      "      \"c_dataset\": [\n",
      "        \"ecnbasic\"\n",
      "      ],\n",
      "      \"c_geographyLink\": \"http://api.census.gov/data/2022/ecnbasic/geography.json\",\n",
      "      \"c_variablesLink\": \"http://api.census.gov/data/2022/ecnbasic/variables.json\",\n",
      "      \"c_tagsLink\": \"http://api.census.gov/data/2022/ecnbasic/tags.json\",\n",
      "      \"c_examplesLink\": \"http://api.census.gov/data/2022/ecnbasic/examples.json\",\n",
      "      \"c_groupsLink\": \"http://api.census.gov/data/2022/ecnbasic/groups.json\",\n",
      "      \"c_sorts_url\": \"http://api.census.gov/data/2022/ecnbasic/sorts.json\",\n",
      "      \"c_documentationLink\": \"https://www.census.gov/developer/\",\n",
      "      \"c_isAggregate\": true,\n",
      "      \"c_isAvailable\": true,\n",
      "      \"@type\": \"dcat:Dataset\",\n",
      "      \"title\": \"Economic Census: Core Statistics: Summary Statistics for the U.S., States, and Selected Geographies: 2022\",\n",
      "      \"accessLevel\": \"public\",\n",
      "      \"bureauCode\": [\n",
      "        \"006:07\"\n",
      "      ],\n",
      "      \"description\": \"This dataset provides industry statistics on number of firms; number of establishments; number of employees; payroll; and sales, value of shipments, or revenue by geographic area for establishments and firms with paid employees. Data are shown on a 2022 NAICS basis.  The statistics, NAICS levels, and the geographic areas covered vary by sector.\",\n",
      "      \"distribution\": [\n",
      "        {\n",
      "          \"@type\": \"dcat:Distribution\",\n",
      "          \"accessURL\": \"http://api.census.gov/data/2022/ecnbasic\",\n",
      "          \"description\": \"API endpoint\",\n",
      "          \"format\": \"API\",\n",
      "          \"mediaType\": \"application/json\",\n",
      "          \"title\": \"API endpoint\"\n",
      "        }\n",
      "      ],\n",
      "      \"contactPoint\": {\n",
      "        \"fn\": \"Data User Outreach\",\n",
      "        \"hasEmail\": \"mailto:Ewd.outreach@census.gov\"\n",
      "      },\n",
      "      \"identifier\": \"https://api.census.gov/data/id/ECNBASIC2022\",\n",
      "      \"keyword\": [\n",
      "        \"census\"\n",
      "      ],\n",
      "      \"license\": \"https://creativecommons.org/publicdomain/zero/1.0/\",\n",
      "      \"modified\": \"2023-10-24 13:36:24.0\",\n",
      "      \"programCode\": [\n",
      "        \"006:007\"\n",
      "      ],\n",
      "      \"references\": [\n",
      "        \"https://www.census.gov/developers/\"\n",
      "      ],\n",
      "      \"spatial\": \"United States\",\n",
      "      \"temporal\": \"2022/2022\",\n",
      "      \"publisher\": {\n",
      "        \"@type\": \"org:Organization\",\n",
      "        \"name\": \"U.S. Census Bureau\",\n",
      "        \"subOrganizationOf\": {\n",
      "             \"@type\": \"org:Organization\",\n",
      "             \"name\": \"U.S. Department Of Commerce\",\n",
      "             \"subOrganizationOf\": {\n",
      "                 \"@type\": \"org:Organization\",\n",
      "                 \"name\": \"U.S. Government\"\n",
      "             }\n",
      "         }\n",
      "      }\n",
      "    }\n",
      "  ]\n",
      "}\n"
     ]
    }
   ],
   "source": [
    "# accessing the US Census API\n",
    "census_url = \"https://api.census.gov/data/2022/ecnbasic\"\n",
    "r = requests.get(census_url)\n",
    "print(r.text)"
   ]
  },
  {
   "cell_type": "code",
   "execution_count": null,
   "metadata": {},
   "outputs": [
    {
     "name": "stdout",
     "output_type": "stream",
     "text": [
      "<Response [502]>\n"
     ]
    }
   ],
   "source": [
    "# from pprint import pprint\n",
    "# ncdc_base_url = \"https://www.ncei.noaa.gov/cdo-web/api/v2/\"\n",
    "\n",
    "# endpoint = \"stations/\"\n",
    "# headers = co.make_headers()\n",
    "# headers['token'] = os.getenv(\"NCDC_TOKEN\")\n",
    "\n",
    "# # offset = 18175\n",
    "# params = {'offset': 18175}\n",
    "# test = requests.get(ncdc_base_url + endpoint, headers=headers, params=params)\n",
    "# print(test)    \n"
   ]
  },
  {
   "cell_type": "code",
   "execution_count": 5,
   "metadata": {},
   "outputs": [],
   "source": [
    "# from pprint import pprint\n",
    "# ncdc_base_url = \"https://www.ncei.noaa.gov/cdo-web/api/v2/\"\n",
    "\n",
    "# endpoint = \"data\"\n",
    "# headers = co.make_headers()\n",
    "# headers['token'] = os.getenv(\"NCDC_TOKEN\")\n",
    "\n",
    "# # offset = 18175\n",
    "# # error messages give xml style error reponses:\n",
    "# # ex: <?xml version=\"1.0\" encoding=\"UTF-8\" standalone=\"yes\"?><response><statusCode>400</statusCode><userMessage>There was an error with the request.</userMessage><developerMessage>Required parameter 'enddate' is missing.</developerMessage></response>\n",
    "# #  441598 010008\n",
    "# params = {\"datasetid\": \"GHCND\",\n",
    "#           \"locationid\": \"ZIP:22903\", \n",
    "#           \"startdate\": \"1948-01-01\",\n",
    "#           \"enddate\": \"1948-01-07\"}\n",
    "# test = requests.get(ncdc_base_url + endpoint, headers=headers, params=params)\n",
    "# pprint(json.loads(test.text))"
   ]
  },
  {
   "cell_type": "code",
   "execution_count": null,
   "metadata": {},
   "outputs": [],
   "source": [
    "# from my research, I believe that this URL is deprecated\n",
    "# ncdc_base_url = \"https://www.ncei.noaa.gov/cdo-web/api/v2/\""
   ]
  },
  {
   "cell_type": "code",
   "execution_count": null,
   "metadata": {},
   "outputs": [
    {
     "name": "stdout",
     "output_type": "stream",
     "text": [
      "<Response [502]>\n"
     ]
    }
   ],
   "source": [
    "# set up\n",
    "# from https://medium.com/@markwkiehl/noaa-climate-api-c2e36e7a49c5 <-- this article says that the following is more up to date, even though the NOAA website does not say that\n",
    "norf_coordinates = co.get_lat_long(\"Norfolk, Virginia\")\n",
    "bb = co.get_bounding_box(norf_coordinates[0], norf_coordinates[1], buffer=10)\n",
    "\n",
    "bounding_box = f\"{bb[0]},{bb[1],{bb[2]},{bb[3]}}\"\n",
    "headers = co.make_headers()\n",
    "headers[\"token\"] = co.noaa_token\n",
    "\n",
    "params = {\"dataTypes\": \"TMIN,TMAX,PRCP\", \n",
    "          \"dataset\":\"global-summary-of-the-week\",\n",
    "          \"boundingbox\": bounding_box}\n",
    "\n",
    "r = requests.get(\"https://www.ncei.noaa.gov/access/services/search/v1/data\", params=params, headers=headers)\n",
    "print(r)"
   ]
  },
  {
   "cell_type": "code",
   "execution_count": 12,
   "metadata": {},
   "outputs": [
    {
     "name": "stdout",
     "output_type": "stream",
     "text": [
      "Internal issue\n"
     ]
    }
   ],
   "source": [
    "if '[502]' in str(r):\n",
    "    print(\"Internal issue\")"
   ]
  },
  {
   "cell_type": "code",
   "execution_count": null,
   "metadata": {},
   "outputs": [],
   "source": []
  }
 ],
 "metadata": {
  "kernelspec": {
   "display_name": ".venv",
   "language": "python",
   "name": "python3"
  },
  "language_info": {
   "codemirror_mode": {
    "name": "ipython",
    "version": 3
   },
   "file_extension": ".py",
   "mimetype": "text/x-python",
   "name": "python",
   "nbconvert_exporter": "python",
   "pygments_lexer": "ipython3",
   "version": "3.12.5"
  }
 },
 "nbformat": 4,
 "nbformat_minor": 2
}
